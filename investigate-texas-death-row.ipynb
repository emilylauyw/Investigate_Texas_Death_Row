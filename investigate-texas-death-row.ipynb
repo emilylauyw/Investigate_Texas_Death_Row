{
 "cells": [
  {
   "cell_type": "markdown",
   "metadata": {},
   "source": [
    "# Investigate Texas Death Row Dataset\n",
    "\n",
    "## Table of Contents\n",
    "<ul>\n",
    "<li><a href=\"#intro\">Introduction</a></li>\n",
    "<li><a href=\"#wrangling\">Data Wrangling</a></li>\n",
    "<li><a href=\"#eda\">Exploratory Data Analysis</a></li>\n",
    "<li><a href=\"#conclusions\">Conclusions</a></li>\n",
    "</ul>"
   ]
  },
  {
   "cell_type": "markdown",
   "metadata": {},
   "source": [
    "<a id='intro'></a>\n",
    "## Introduction\n",
    "\n",
    "> The dataset documents 553 Texas death row inmates executed from 1976, when the Supreme Court reinstated the death penalty, to the present. Originally from the Texas Department of Criminal Justice website was cleaned and provided by selectstarsql https://selectstarsql.com."
   ]
  },
  {
   "cell_type": "code",
   "execution_count": 1,
   "metadata": {},
   "outputs": [],
   "source": [
    "# import statements for all of the packages that I plan to use. \n",
    "\n",
    "import pandas as pd\n",
    "import numpy as np\n",
    "import seaborn as sns\n",
    "import matplotlib.pyplot as plt\n",
    "% matplotlib inline"
   ]
  },
  {
   "cell_type": "markdown",
   "metadata": {},
   "source": [
    "<a id='wrangling'></a>\n",
    "## Data Wrangling\n",
    "\n",
    "> In this section of the report, I will load in the data, check for cleanliness, and then trim and clean the dataset for analysis. \n",
    "\n",
    "### General Properties\n",
    "Below are the questions to answer using pandas to explore ```tx_deathrow_full.csv``` and have a holistic understanding of the data set:\n",
    "\n",
    "- Number of samples & columns in the dataset\n",
    "- Duplicate rows in the dataset\n",
    "- Datatypes of the columns\n",
    "- Features with missing values\n",
    "- Number of unique values for the dataset\n",
    "- Number of rows with missing values in the dataset\n",
    "- Descriptive statistics for the dataset"
   ]
  },
  {
   "cell_type": "code",
   "execution_count": 2,
   "metadata": {},
   "outputs": [
    {
     "data": {
      "text/html": [
       "<div>\n",
       "<style scoped>\n",
       "    .dataframe tbody tr th:only-of-type {\n",
       "        vertical-align: middle;\n",
       "    }\n",
       "\n",
       "    .dataframe tbody tr th {\n",
       "        vertical-align: top;\n",
       "    }\n",
       "\n",
       "    .dataframe thead th {\n",
       "        text-align: right;\n",
       "    }\n",
       "</style>\n",
       "<table border=\"1\" class=\"dataframe\">\n",
       "  <thead>\n",
       "    <tr style=\"text-align: right;\">\n",
       "      <th></th>\n",
       "      <th>Execution</th>\n",
       "      <th>Date of Birth</th>\n",
       "      <th>Date of Offence</th>\n",
       "      <th>Highest Education Level</th>\n",
       "      <th>Last Name</th>\n",
       "      <th>First Name</th>\n",
       "      <th>TDCJ\n",
       "Number</th>\n",
       "      <th>Age at Execution</th>\n",
       "      <th>Date Received</th>\n",
       "      <th>Execution Date</th>\n",
       "      <th>Race</th>\n",
       "      <th>County</th>\n",
       "      <th>Eye Color</th>\n",
       "      <th>Weight</th>\n",
       "      <th>Height</th>\n",
       "      <th>Native County</th>\n",
       "      <th>Native State</th>\n",
       "      <th>Last Statement</th>\n",
       "    </tr>\n",
       "  </thead>\n",
       "  <tbody>\n",
       "    <tr>\n",
       "      <th>0</th>\n",
       "      <td>553</td>\n",
       "      <td>1983-09-24</td>\n",
       "      <td>2004-11-21</td>\n",
       "      <td>9.0</td>\n",
       "      <td>Young</td>\n",
       "      <td>Christopher Anthony</td>\n",
       "      <td>999508</td>\n",
       "      <td>34</td>\n",
       "      <td>2006-03-31</td>\n",
       "      <td>2018-07-17</td>\n",
       "      <td>Black</td>\n",
       "      <td>Bexar</td>\n",
       "      <td>Brown</td>\n",
       "      <td>216.0</td>\n",
       "      <td>6' 1\"</td>\n",
       "      <td>Bexar</td>\n",
       "      <td>Texas</td>\n",
       "      <td>l want to make sure the Patel family knows I l...</td>\n",
       "    </tr>\n",
       "    <tr>\n",
       "      <th>1</th>\n",
       "      <td>552</td>\n",
       "      <td>1951-08-28</td>\n",
       "      <td>1979-05-27</td>\n",
       "      <td>12.0</td>\n",
       "      <td>Bible</td>\n",
       "      <td>Danny Paul</td>\n",
       "      <td>999455</td>\n",
       "      <td>66</td>\n",
       "      <td>2003-07-17</td>\n",
       "      <td>2018-06-27</td>\n",
       "      <td>White</td>\n",
       "      <td>Harris</td>\n",
       "      <td>Blue</td>\n",
       "      <td>194.0</td>\n",
       "      <td>5' 7\"</td>\n",
       "      <td>Brazoria</td>\n",
       "      <td>Texas</td>\n",
       "      <td>NaN</td>\n",
       "    </tr>\n",
       "    <tr>\n",
       "      <th>2</th>\n",
       "      <td>551</td>\n",
       "      <td>1981-04-03</td>\n",
       "      <td>2003-12-03</td>\n",
       "      <td>10.0</td>\n",
       "      <td>Castillo</td>\n",
       "      <td>Juan Edward</td>\n",
       "      <td>999502</td>\n",
       "      <td>37</td>\n",
       "      <td>2005-09-27</td>\n",
       "      <td>2018-05-16</td>\n",
       "      <td>Hispanic</td>\n",
       "      <td>Bexar</td>\n",
       "      <td>Brown</td>\n",
       "      <td>180.0</td>\n",
       "      <td>5' 11\"</td>\n",
       "      <td>Bexar</td>\n",
       "      <td>Texas</td>\n",
       "      <td>To everyone that has been there for me you kno...</td>\n",
       "    </tr>\n",
       "  </tbody>\n",
       "</table>\n",
       "</div>"
      ],
      "text/plain": [
       "   Execution Date of Birth Date of Offence  Highest Education Level Last Name  \\\n",
       "0        553    1983-09-24      2004-11-21                      9.0     Young   \n",
       "1        552    1951-08-28      1979-05-27                     12.0     Bible   \n",
       "2        551    1981-04-03      2003-12-03                     10.0  Castillo   \n",
       "\n",
       "            First Name  TDCJ\\nNumber  Age at Execution Date Received  \\\n",
       "0  Christopher Anthony        999508                34    2006-03-31   \n",
       "1           Danny Paul        999455                66    2003-07-17   \n",
       "2          Juan Edward        999502                37    2005-09-27   \n",
       "\n",
       "  Execution Date      Race  County Eye Color  Weight  Height Native County  \\\n",
       "0     2018-07-17     Black   Bexar     Brown   216.0   6' 1\"         Bexar   \n",
       "1     2018-06-27     White  Harris      Blue   194.0   5' 7\"      Brazoria   \n",
       "2     2018-05-16  Hispanic   Bexar     Brown   180.0  5' 11\"         Bexar   \n",
       "\n",
       "  Native State                                     Last Statement  \n",
       "0        Texas  l want to make sure the Patel family knows I l...  \n",
       "1        Texas                                                NaN  \n",
       "2        Texas  To everyone that has been there for me you kno...  "
      ]
     },
     "execution_count": 2,
     "metadata": {},
     "output_type": "execute_result"
    }
   ],
   "source": [
    "# Load the data and print out a few lines. Perform operations to inspect data\n",
    "#   types and look for instances of missing or possibly errant data.\n",
    "executions_df = pd.read_csv('tx_deathrow_full.csv')\n",
    "executions_df.head(3)"
   ]
  },
  {
   "cell_type": "markdown",
   "metadata": {},
   "source": [
    ">**Observations:** \n",
    ">- Columns like ```cast```, ```keywords```, ```genres``` and ```production_companies```, contain multiple values separated by pipe (|) characters. \n",
    "- The final two columns ending with “_adj” show the budget and revenue of the associated movie in terms of 2010 dollars, accounting for inflation over time. I will drop the original value and retain the two columns so that I can better compare dollar values from one year to another.\n",
    "- Noticed that the ```vote_count``` is different for all the movies, so I will not be able to calculate the popularity of the movies based on the value."
   ]
  },
  {
   "cell_type": "markdown",
   "metadata": {},
   "source": [
    "#### Number of samples & columns in the dataset\n",
    "Based on the result shown below, there are a total of 533 executions and 18 columns in the dataset."
   ]
  },
  {
   "cell_type": "code",
   "execution_count": 10,
   "metadata": {},
   "outputs": [
    {
     "data": {
      "text/plain": [
       "(553, 18)"
      ]
     },
     "execution_count": 10,
     "metadata": {},
     "output_type": "execute_result"
    }
   ],
   "source": [
    "# To check the size of the dataset\n",
    "executions_df.shape"
   ]
  },
  {
   "cell_type": "markdown",
   "metadata": {},
   "source": [
    "#### Duplicate rows in the dataset\n",
    "Based on the result shown below, there are no duplicated row."
   ]
  },
  {
   "cell_type": "code",
   "execution_count": 11,
   "metadata": {},
   "outputs": [
    {
     "data": {
      "text/plain": [
       "0"
      ]
     },
     "execution_count": 11,
     "metadata": {},
     "output_type": "execute_result"
    }
   ],
   "source": [
    "# To get the total number of duplicated rows in the dataset \n",
    "executions_df.duplicated().sum()"
   ]
  },
  {
   "cell_type": "markdown",
   "metadata": {},
   "source": [
    "#### Datatype of column in the dataset\n",
    "```info``` is use to find the basic information like datatype of column in the dataset. Noticed that a number of columns name and columns not using the correct datatype and I will work on it in the next section."
   ]
  },
  {
   "cell_type": "code",
   "execution_count": 5,
   "metadata": {},
   "outputs": [
    {
     "name": "stdout",
     "output_type": "stream",
     "text": [
      "<class 'pandas.core.frame.DataFrame'>\n",
      "RangeIndex: 553 entries, 0 to 552\n",
      "Data columns (total 18 columns):\n",
      "Execution                  553 non-null int64\n",
      "Date of Birth              539 non-null object\n",
      "Date of Offence            536 non-null object\n",
      "Highest Education Level    505 non-null float64\n",
      "Last Name                  553 non-null object\n",
      "First Name                 553 non-null object\n",
      "TDCJ\n",
      "Number                553 non-null int64\n",
      "Age at Execution           553 non-null int64\n",
      "Date Received              539 non-null object\n",
      "Execution Date             553 non-null object\n",
      "Race                       553 non-null object\n",
      "County                     553 non-null object\n",
      "Eye Color                  518 non-null object\n",
      "Weight                     511 non-null float64\n",
      "Height                     513 non-null object\n",
      "Native County              510 non-null object\n",
      "Native State               524 non-null object\n",
      "Last Statement             443 non-null object\n",
      "dtypes: float64(2), int64(3), object(13)\n",
      "memory usage: 77.8+ KB\n"
     ]
    }
   ],
   "source": [
    "executions_df.info()"
   ]
  },
  {
   "cell_type": "markdown",
   "metadata": {},
   "source": [
    "#### Features with missing values in the dataset\n",
    "There are a number of null values in the dataset for these columns: ```Date of Birth```, ```Date of Offence```, ```Highest Education Level```, ```Date Received```, ```Eye Color```, ```Weight```, ```Height```, ```Native County```, ```Native State``` and ```Last Statement```."
   ]
  },
  {
   "cell_type": "code",
   "execution_count": 6,
   "metadata": {},
   "outputs": [
    {
     "data": {
      "text/plain": [
       "Execution                    0\n",
       "Date of Birth               14\n",
       "Date of Offence             17\n",
       "Highest Education Level     48\n",
       "Last Name                    0\n",
       "First Name                   0\n",
       "TDCJ\\nNumber                 0\n",
       "Age at Execution             0\n",
       "Date Received               14\n",
       "Execution Date               0\n",
       "Race                         0\n",
       "County                       0\n",
       "Eye Color                   35\n",
       "Weight                      42\n",
       "Height                      40\n",
       "Native County               43\n",
       "Native State                29\n",
       "Last Statement             110\n",
       "dtype: int64"
      ]
     },
     "execution_count": 6,
     "metadata": {},
     "output_type": "execute_result"
    }
   ],
   "source": [
    "executions_df.isnull().sum()"
   ]
  },
  {
   "cell_type": "markdown",
   "metadata": {},
   "source": [
    "#### Number of unique values for the dataset\n",
    "To see the total number of unique values for each column."
   ]
  },
  {
   "cell_type": "code",
   "execution_count": 7,
   "metadata": {},
   "outputs": [
    {
     "data": {
      "text/plain": [
       "Execution                  553\n",
       "Date of Birth              526\n",
       "Date of Offence            507\n",
       "Highest Education Level     17\n",
       "Last Name                  450\n",
       "First Name                 271\n",
       "TDCJ\\nNumber               553\n",
       "Age at Execution            42\n",
       "Date Received              513\n",
       "Execution Date             550\n",
       "Race                         5\n",
       "County                      92\n",
       "Eye Color                    8\n",
       "Weight                     131\n",
       "Height                      17\n",
       "Native County              218\n",
       "Native State                51\n",
       "Last Statement             443\n",
       "dtype: int64"
      ]
     },
     "execution_count": 7,
     "metadata": {},
     "output_type": "execute_result"
    }
   ],
   "source": [
    "executions_df.nunique()"
   ]
  },
  {
   "cell_type": "markdown",
   "metadata": {},
   "source": [
    "#### Number of rows with missing values in the dataset\n",
    "To check the total number of rows with at least one column with missing values. "
   ]
  },
  {
   "cell_type": "code",
   "execution_count": 8,
   "metadata": {},
   "outputs": [
    {
     "data": {
      "text/plain": [
       "165"
      ]
     },
     "execution_count": 8,
     "metadata": {},
     "output_type": "execute_result"
    }
   ],
   "source": [
    "executions_df.isnull().any(axis=1).sum()"
   ]
  },
  {
   "cell_type": "markdown",
   "metadata": {},
   "source": [
    "#### Descriptive statistics for the dataset\n",
    "Based on the table shown below, we can observed that the youngest execution is at the age of 24 and olderest is at 67. The Highest education level is 20 and lowest is 3."
   ]
  },
  {
   "cell_type": "code",
   "execution_count": 9,
   "metadata": {},
   "outputs": [
    {
     "data": {
      "text/html": [
       "<div>\n",
       "<style scoped>\n",
       "    .dataframe tbody tr th:only-of-type {\n",
       "        vertical-align: middle;\n",
       "    }\n",
       "\n",
       "    .dataframe tbody tr th {\n",
       "        vertical-align: top;\n",
       "    }\n",
       "\n",
       "    .dataframe thead th {\n",
       "        text-align: right;\n",
       "    }\n",
       "</style>\n",
       "<table border=\"1\" class=\"dataframe\">\n",
       "  <thead>\n",
       "    <tr style=\"text-align: right;\">\n",
       "      <th></th>\n",
       "      <th>Execution</th>\n",
       "      <th>Highest Education Level</th>\n",
       "      <th>TDCJ\n",
       "Number</th>\n",
       "      <th>Age at Execution</th>\n",
       "      <th>Weight</th>\n",
       "    </tr>\n",
       "  </thead>\n",
       "  <tbody>\n",
       "    <tr>\n",
       "      <th>count</th>\n",
       "      <td>553.000000</td>\n",
       "      <td>505.000000</td>\n",
       "      <td>553.000000</td>\n",
       "      <td>553.000000</td>\n",
       "      <td>511.000000</td>\n",
       "    </tr>\n",
       "    <tr>\n",
       "      <th>mean</th>\n",
       "      <td>277.000000</td>\n",
       "      <td>10.208911</td>\n",
       "      <td>524395.757685</td>\n",
       "      <td>39.470163</td>\n",
       "      <td>175.982387</td>\n",
       "    </tr>\n",
       "    <tr>\n",
       "      <th>std</th>\n",
       "      <td>159.781622</td>\n",
       "      <td>2.095540</td>\n",
       "      <td>499085.607027</td>\n",
       "      <td>8.628164</td>\n",
       "      <td>32.896476</td>\n",
       "    </tr>\n",
       "    <tr>\n",
       "      <th>min</th>\n",
       "      <td>1.000000</td>\n",
       "      <td>3.000000</td>\n",
       "      <td>511.000000</td>\n",
       "      <td>24.000000</td>\n",
       "      <td>104.000000</td>\n",
       "    </tr>\n",
       "    <tr>\n",
       "      <th>25%</th>\n",
       "      <td>139.000000</td>\n",
       "      <td>9.000000</td>\n",
       "      <td>815.000000</td>\n",
       "      <td>33.000000</td>\n",
       "      <td>151.000000</td>\n",
       "    </tr>\n",
       "    <tr>\n",
       "      <th>50%</th>\n",
       "      <td>277.000000</td>\n",
       "      <td>10.000000</td>\n",
       "      <td>999023.000000</td>\n",
       "      <td>38.000000</td>\n",
       "      <td>170.000000</td>\n",
       "    </tr>\n",
       "    <tr>\n",
       "      <th>75%</th>\n",
       "      <td>415.000000</td>\n",
       "      <td>12.000000</td>\n",
       "      <td>999257.000000</td>\n",
       "      <td>44.000000</td>\n",
       "      <td>191.500000</td>\n",
       "    </tr>\n",
       "    <tr>\n",
       "      <th>max</th>\n",
       "      <td>553.000000</td>\n",
       "      <td>20.000000</td>\n",
       "      <td>999555.000000</td>\n",
       "      <td>67.000000</td>\n",
       "      <td>318.000000</td>\n",
       "    </tr>\n",
       "  </tbody>\n",
       "</table>\n",
       "</div>"
      ],
      "text/plain": [
       "        Execution  Highest Education Level   TDCJ\\nNumber  Age at Execution  \\\n",
       "count  553.000000               505.000000     553.000000        553.000000   \n",
       "mean   277.000000                10.208911  524395.757685         39.470163   \n",
       "std    159.781622                 2.095540  499085.607027          8.628164   \n",
       "min      1.000000                 3.000000     511.000000         24.000000   \n",
       "25%    139.000000                 9.000000     815.000000         33.000000   \n",
       "50%    277.000000                10.000000  999023.000000         38.000000   \n",
       "75%    415.000000                12.000000  999257.000000         44.000000   \n",
       "max    553.000000                20.000000  999555.000000         67.000000   \n",
       "\n",
       "           Weight  \n",
       "count  511.000000  \n",
       "mean   175.982387  \n",
       "std     32.896476  \n",
       "min    104.000000  \n",
       "25%    151.000000  \n",
       "50%    170.000000  \n",
       "75%    191.500000  \n",
       "max    318.000000  "
      ]
     },
     "execution_count": 9,
     "metadata": {},
     "output_type": "execute_result"
    }
   ],
   "source": [
    "executions_df.describe()"
   ]
  },
  {
   "cell_type": "markdown",
   "metadata": {},
   "source": [
    "### Data Cleaning\n",
    "After the above discussion on the structure of the dataset and the problems that need to be cleaned, the following are the cleaning steps to be performed:\n",
    "\n",
    "1. Drop Extraneous Columns\n",
    "2. Drop the Duplicates\n",
    "3. Add new column ```profit```\n",
    "4. Mark zero values with NaN\n",
    "5. Replace zero values with mean\n",
    "6. Convert ``` release_date``` column to Date datatype"
   ]
  },
  {
   "cell_type": "markdown",
   "metadata": {},
   "source": [
    "#### Drop Extraneous Columns\n",
    "- Drop columns that aren't relevant to our questions. Columns to Drop: ```id```, ```imdb_id```, ```popularity```, ```homepage```, ```overview```, ```tagline```\n",
    "- ```budget``` and ```revenue``` will also be drop as I will be using the final two columns ending with “_adj” which show the budget and revenue of the associated movie in terms of 2010 dollars, accounting for inflation over time."
   ]
  },
  {
   "cell_type": "code",
   "execution_count": 75,
   "metadata": {},
   "outputs": [
    {
     "data": {
      "text/html": [
       "<div>\n",
       "<style scoped>\n",
       "    .dataframe tbody tr th:only-of-type {\n",
       "        vertical-align: middle;\n",
       "    }\n",
       "\n",
       "    .dataframe tbody tr th {\n",
       "        vertical-align: top;\n",
       "    }\n",
       "\n",
       "    .dataframe thead th {\n",
       "        text-align: right;\n",
       "    }\n",
       "</style>\n",
       "<table border=\"1\" class=\"dataframe\">\n",
       "  <thead>\n",
       "    <tr style=\"text-align: right;\">\n",
       "      <th></th>\n",
       "      <th>original_title</th>\n",
       "      <th>cast</th>\n",
       "      <th>director</th>\n",
       "      <th>keywords</th>\n",
       "      <th>runtime</th>\n",
       "      <th>genres</th>\n",
       "      <th>production_companies</th>\n",
       "      <th>release_date</th>\n",
       "      <th>release_year</th>\n",
       "      <th>budget_adj</th>\n",
       "      <th>revenue_adj</th>\n",
       "    </tr>\n",
       "  </thead>\n",
       "  <tbody>\n",
       "    <tr>\n",
       "      <th>0</th>\n",
       "      <td>Jurassic World</td>\n",
       "      <td>Chris Pratt|Bryce Dallas Howard|Irrfan Khan|Vi...</td>\n",
       "      <td>Colin Trevorrow</td>\n",
       "      <td>monster|dna|tyrannosaurus rex|velociraptor|island</td>\n",
       "      <td>124</td>\n",
       "      <td>Action|Adventure|Science Fiction|Thriller</td>\n",
       "      <td>Universal Studios|Amblin Entertainment|Legenda...</td>\n",
       "      <td>6/9/15</td>\n",
       "      <td>2015</td>\n",
       "      <td>1.379999e+08</td>\n",
       "      <td>1.392446e+09</td>\n",
       "    </tr>\n",
       "  </tbody>\n",
       "</table>\n",
       "</div>"
      ],
      "text/plain": [
       "   original_title                                               cast  \\\n",
       "0  Jurassic World  Chris Pratt|Bryce Dallas Howard|Irrfan Khan|Vi...   \n",
       "\n",
       "          director                                           keywords  \\\n",
       "0  Colin Trevorrow  monster|dna|tyrannosaurus rex|velociraptor|island   \n",
       "\n",
       "   runtime                                     genres  \\\n",
       "0      124  Action|Adventure|Science Fiction|Thriller   \n",
       "\n",
       "                                production_companies release_date  \\\n",
       "0  Universal Studios|Amblin Entertainment|Legenda...       6/9/15   \n",
       "\n",
       "   release_year    budget_adj   revenue_adj  \n",
       "0          2015  1.379999e+08  1.392446e+09  "
      ]
     },
     "execution_count": 75,
     "metadata": {},
     "output_type": "execute_result"
    }
   ],
   "source": [
    "# drop columns from the dataset\n",
    "movie_df.drop(['id', 'imdb_id', 'popularity', 'budget', 'revenue', 'homepage', 'overview', 'vote_count', \n",
    "               'vote_average', 'tagline'], axis=1, inplace=True)\n",
    "\n",
    "# confirm changes\n",
    "movie_df.head(1)"
   ]
  },
  {
   "cell_type": "markdown",
   "metadata": {},
   "source": [
    "#### Drop the Duplicates"
   ]
  },
  {
   "cell_type": "code",
   "execution_count": 76,
   "metadata": {},
   "outputs": [
    {
     "data": {
      "text/plain": [
       "0"
      ]
     },
     "execution_count": 76,
     "metadata": {},
     "output_type": "execute_result"
    }
   ],
   "source": [
    "# drop duplicates in the datasets\n",
    "movie_df.drop_duplicates(inplace=True)\n",
    "\n",
    "# print number of duplicates again to confirm dedupe - should be 0\n",
    "movie_df.duplicated().sum() "
   ]
  },
  {
   "cell_type": "markdown",
   "metadata": {},
   "source": [
    "#### Add new column ```Profit```"
   ]
  },
  {
   "cell_type": "code",
   "execution_count": 77,
   "metadata": {},
   "outputs": [],
   "source": [
    "# Insert a new column profit calculated using revenue minus budget\n",
    "movie_df['profit'] = movie_df['revenue_adj'] - movie_df['budget_adj'] "
   ]
  },
  {
   "cell_type": "code",
   "execution_count": 78,
   "metadata": {},
   "outputs": [
    {
     "data": {
      "text/html": [
       "<div>\n",
       "<style scoped>\n",
       "    .dataframe tbody tr th:only-of-type {\n",
       "        vertical-align: middle;\n",
       "    }\n",
       "\n",
       "    .dataframe tbody tr th {\n",
       "        vertical-align: top;\n",
       "    }\n",
       "\n",
       "    .dataframe thead th {\n",
       "        text-align: right;\n",
       "    }\n",
       "</style>\n",
       "<table border=\"1\" class=\"dataframe\">\n",
       "  <thead>\n",
       "    <tr style=\"text-align: right;\">\n",
       "      <th></th>\n",
       "      <th>original_title</th>\n",
       "      <th>cast</th>\n",
       "      <th>director</th>\n",
       "      <th>keywords</th>\n",
       "      <th>runtime</th>\n",
       "      <th>genres</th>\n",
       "      <th>production_companies</th>\n",
       "      <th>release_date</th>\n",
       "      <th>release_year</th>\n",
       "      <th>budget_adj</th>\n",
       "      <th>revenue_adj</th>\n",
       "      <th>profit</th>\n",
       "    </tr>\n",
       "  </thead>\n",
       "  <tbody>\n",
       "    <tr>\n",
       "      <th>0</th>\n",
       "      <td>Jurassic World</td>\n",
       "      <td>Chris Pratt|Bryce Dallas Howard|Irrfan Khan|Vi...</td>\n",
       "      <td>Colin Trevorrow</td>\n",
       "      <td>monster|dna|tyrannosaurus rex|velociraptor|island</td>\n",
       "      <td>124</td>\n",
       "      <td>Action|Adventure|Science Fiction|Thriller</td>\n",
       "      <td>Universal Studios|Amblin Entertainment|Legenda...</td>\n",
       "      <td>6/9/15</td>\n",
       "      <td>2015</td>\n",
       "      <td>1.379999e+08</td>\n",
       "      <td>1.392446e+09</td>\n",
       "      <td>1.254446e+09</td>\n",
       "    </tr>\n",
       "  </tbody>\n",
       "</table>\n",
       "</div>"
      ],
      "text/plain": [
       "   original_title                                               cast  \\\n",
       "0  Jurassic World  Chris Pratt|Bryce Dallas Howard|Irrfan Khan|Vi...   \n",
       "\n",
       "          director                                           keywords  \\\n",
       "0  Colin Trevorrow  monster|dna|tyrannosaurus rex|velociraptor|island   \n",
       "\n",
       "   runtime                                     genres  \\\n",
       "0      124  Action|Adventure|Science Fiction|Thriller   \n",
       "\n",
       "                                production_companies release_date  \\\n",
       "0  Universal Studios|Amblin Entertainment|Legenda...       6/9/15   \n",
       "\n",
       "   release_year    budget_adj   revenue_adj        profit  \n",
       "0          2015  1.379999e+08  1.392446e+09  1.254446e+09  "
      ]
     },
     "execution_count": 78,
     "metadata": {},
     "output_type": "execute_result"
    }
   ],
   "source": [
    "# To confirm the changes\n",
    "movie_df.head(1)"
   ]
  },
  {
   "cell_type": "markdown",
   "metadata": {},
   "source": [
    "#### Mark zero values with NaN\n",
    "\n",
    "Based on the previous Descriptive statistics for the dataset, 50% of the value in ```budget``` and ```revenue``` are of zero value. The minimum value for runtime is 0 which means that there could be a number of values of zero value in ```runtime```.\n",
    "\n",
    "Considering the impact of dropping all the rows with zero might impact my analysis, I will first mark the zero values as NaN so that I can replace them with mean values in the next section."
   ]
  },
  {
   "cell_type": "code",
   "execution_count": 79,
   "metadata": {},
   "outputs": [],
   "source": [
    "# Create a list with zero values \n",
    "zero_list=['runtime', 'budget_adj', 'revenue_adj']\n",
    "\n",
    "# Replace all the value from '0' to NAN in the list\n",
    "movie_df[zero_list] = movie_df[zero_list].replace(0, np.NAN)"
   ]
  },
  {
   "cell_type": "code",
   "execution_count": 80,
   "metadata": {},
   "outputs": [
    {
     "data": {
      "text/html": [
       "<div>\n",
       "<style scoped>\n",
       "    .dataframe tbody tr th:only-of-type {\n",
       "        vertical-align: middle;\n",
       "    }\n",
       "\n",
       "    .dataframe tbody tr th {\n",
       "        vertical-align: top;\n",
       "    }\n",
       "\n",
       "    .dataframe thead th {\n",
       "        text-align: right;\n",
       "    }\n",
       "</style>\n",
       "<table border=\"1\" class=\"dataframe\">\n",
       "  <thead>\n",
       "    <tr style=\"text-align: right;\">\n",
       "      <th></th>\n",
       "      <th>runtime</th>\n",
       "      <th>release_year</th>\n",
       "      <th>budget_adj</th>\n",
       "      <th>revenue_adj</th>\n",
       "      <th>profit</th>\n",
       "    </tr>\n",
       "  </thead>\n",
       "  <tbody>\n",
       "    <tr>\n",
       "      <th>count</th>\n",
       "      <td>10834.000000</td>\n",
       "      <td>10865.000000</td>\n",
       "      <td>5.169000e+03</td>\n",
       "      <td>4.849000e+03</td>\n",
       "      <td>1.086500e+04</td>\n",
       "    </tr>\n",
       "    <tr>\n",
       "      <th>mean</th>\n",
       "      <td>102.363855</td>\n",
       "      <td>2001.321859</td>\n",
       "      <td>3.688907e+07</td>\n",
       "      <td>1.151009e+08</td>\n",
       "      <td>3.381911e+07</td>\n",
       "    </tr>\n",
       "    <tr>\n",
       "      <th>std</th>\n",
       "      <td>30.948225</td>\n",
       "      <td>12.813260</td>\n",
       "      <td>4.196096e+07</td>\n",
       "      <td>1.988557e+08</td>\n",
       "      <td>1.252194e+08</td>\n",
       "    </tr>\n",
       "    <tr>\n",
       "      <th>min</th>\n",
       "      <td>2.000000</td>\n",
       "      <td>1960.000000</td>\n",
       "      <td>9.210911e-01</td>\n",
       "      <td>2.370705e+00</td>\n",
       "      <td>-4.139124e+08</td>\n",
       "    </tr>\n",
       "    <tr>\n",
       "      <th>25%</th>\n",
       "      <td>90.000000</td>\n",
       "      <td>1995.000000</td>\n",
       "      <td>8.102293e+06</td>\n",
       "      <td>1.046585e+07</td>\n",
       "      <td>0.000000e+00</td>\n",
       "    </tr>\n",
       "    <tr>\n",
       "      <th>50%</th>\n",
       "      <td>99.000000</td>\n",
       "      <td>2006.000000</td>\n",
       "      <td>2.271505e+07</td>\n",
       "      <td>4.395666e+07</td>\n",
       "      <td>0.000000e+00</td>\n",
       "    </tr>\n",
       "    <tr>\n",
       "      <th>75%</th>\n",
       "      <td>112.000000</td>\n",
       "      <td>2011.000000</td>\n",
       "      <td>5.008384e+07</td>\n",
       "      <td>1.316482e+08</td>\n",
       "      <td>1.293091e+07</td>\n",
       "    </tr>\n",
       "    <tr>\n",
       "      <th>max</th>\n",
       "      <td>900.000000</td>\n",
       "      <td>2015.000000</td>\n",
       "      <td>4.250000e+08</td>\n",
       "      <td>2.827124e+09</td>\n",
       "      <td>2.750137e+09</td>\n",
       "    </tr>\n",
       "  </tbody>\n",
       "</table>\n",
       "</div>"
      ],
      "text/plain": [
       "            runtime  release_year    budget_adj   revenue_adj        profit\n",
       "count  10834.000000  10865.000000  5.169000e+03  4.849000e+03  1.086500e+04\n",
       "mean     102.363855   2001.321859  3.688907e+07  1.151009e+08  3.381911e+07\n",
       "std       30.948225     12.813260  4.196096e+07  1.988557e+08  1.252194e+08\n",
       "min        2.000000   1960.000000  9.210911e-01  2.370705e+00 -4.139124e+08\n",
       "25%       90.000000   1995.000000  8.102293e+06  1.046585e+07  0.000000e+00\n",
       "50%       99.000000   2006.000000  2.271505e+07  4.395666e+07  0.000000e+00\n",
       "75%      112.000000   2011.000000  5.008384e+07  1.316482e+08  1.293091e+07\n",
       "max      900.000000   2015.000000  4.250000e+08  2.827124e+09  2.750137e+09"
      ]
     },
     "execution_count": 80,
     "metadata": {},
     "output_type": "execute_result"
    }
   ],
   "source": [
    "# Confirm the changes\n",
    "movie_df.describe()"
   ]
  },
  {
   "cell_type": "markdown",
   "metadata": {},
   "source": [
    "#### Replace zero values with mean\n",
    "\n",
    "The choosen way to handle the missing values is imputing them with the mean."
   ]
  },
  {
   "cell_type": "code",
   "execution_count": 81,
   "metadata": {},
   "outputs": [],
   "source": [
    "# use means to fill in missing values\n",
    "movie_df['runtime'].fillna((movie_df['runtime'].mean()), inplace=True)\n",
    "movie_df['budget_adj'].fillna((movie_df['budget_adj'].mean()), inplace=True)\n",
    "movie_df['revenue_adj'].fillna((movie_df['revenue_adj'].mean()), inplace=True)"
   ]
  },
  {
   "cell_type": "code",
   "execution_count": 82,
   "metadata": {},
   "outputs": [
    {
     "name": "stderr",
     "output_type": "stream",
     "text": [
      "C:\\Users\\Emily\\Anaconda3\\lib\\site-packages\\pandas\\core\\generic.py:4355: SettingWithCopyWarning: \n",
      "A value is trying to be set on a copy of a slice from a DataFrame\n",
      "\n",
      "See the caveats in the documentation: http://pandas.pydata.org/pandas-docs/stable/indexing.html#indexing-view-versus-copy\n",
      "  self._update_inplace(new_data)\n"
     ]
    }
   ],
   "source": [
    "# Create a list with missing values \n",
    "missing_values=['runtime', 'budget_adj', 'revenue_adj']\n",
    "\n",
    "# Replace all the value from '0' to NAN in the list\n",
    "movie_df[missing_values].fillna((movie_df[missing_values].mean()), inplace=True)"
   ]
  },
  {
   "cell_type": "code",
   "execution_count": 83,
   "metadata": {},
   "outputs": [
    {
     "name": "stdout",
     "output_type": "stream",
     "text": [
      "<class 'pandas.core.frame.DataFrame'>\n",
      "Int64Index: 10865 entries, 0 to 10865\n",
      "Data columns (total 12 columns):\n",
      "original_title          10865 non-null object\n",
      "cast                    10789 non-null object\n",
      "director                10821 non-null object\n",
      "keywords                9372 non-null object\n",
      "runtime                 10865 non-null float64\n",
      "genres                  10842 non-null object\n",
      "production_companies    9835 non-null object\n",
      "release_date            10865 non-null object\n",
      "release_year            10865 non-null int64\n",
      "budget_adj              10865 non-null float64\n",
      "revenue_adj             10865 non-null float64\n",
      "profit                  10865 non-null float64\n",
      "dtypes: float64(4), int64(1), object(7)\n",
      "memory usage: 1.1+ MB\n"
     ]
    }
   ],
   "source": [
    "# Confirm the changes\n",
    "movie_df.info()"
   ]
  },
  {
   "cell_type": "markdown",
   "metadata": {},
   "source": [
    "#### Convert ``` release_date``` column to Date datatype\n",
    "To convert ```release_date``` column to date format (year-month-day)."
   ]
  },
  {
   "cell_type": "code",
   "execution_count": 84,
   "metadata": {},
   "outputs": [
    {
     "data": {
      "text/plain": [
       "original_title                  object\n",
       "cast                            object\n",
       "director                        object\n",
       "keywords                        object\n",
       "runtime                        float64\n",
       "genres                          object\n",
       "production_companies            object\n",
       "release_date            datetime64[ns]\n",
       "release_year                     int64\n",
       "budget_adj                     float64\n",
       "revenue_adj                    float64\n",
       "profit                         float64\n",
       "dtype: object"
      ]
     },
     "execution_count": 84,
     "metadata": {},
     "output_type": "execute_result"
    }
   ],
   "source": [
    "# convert release_date to datetime format\n",
    "movie_df['release_date'] = pd.to_datetime(movie_df['release_date'])\n",
    "\n",
    "# confirm changes\n",
    "movie_df.dtypes"
   ]
  },
  {
   "cell_type": "code",
   "execution_count": 85,
   "metadata": {},
   "outputs": [],
   "source": [
    "# save progress for the next section\n",
    "movie_df.to_csv('tmdb-movies-cleaned.csv', index=False)"
   ]
  },
  {
   "cell_type": "markdown",
   "metadata": {},
   "source": [
    "<a id='eda'></a>\n",
    "## Exploratory Data Analysis\n",
    "\n",
    "Now that I've trimmed and cleaned the data, I can compute statistics and create visualizations with the goal of addressing the research questions that I have posed in the Introduction section. "
   ]
  },
  {
   "cell_type": "markdown",
   "metadata": {},
   "source": [
    "#### Describe the correlation between profit vs runtime / budget_adj / revenue_adj"
   ]
  },
  {
   "cell_type": "code",
   "execution_count": 86,
   "metadata": {},
   "outputs": [
    {
     "data": {
      "image/png": "[encoded data removed]",
      "text/plain": [
       "<Figure size 432x288 with 1 Axes>"
      ]
     },
     "metadata": {},
     "output_type": "display_data"
    }
   ],
   "source": [
    "# Correlation between profit and runtime\n",
    "movie_df.plot(x='profit', y='runtime', kind='scatter');"
   ]
  },
  {
   "cell_type": "markdown",
   "metadata": {},
   "source": [
    "> Based on the above image, there is a strong correlation between ```profit``` and ```runtime```."
   ]
  },
  {
   "cell_type": "code",
   "execution_count": 87,
   "metadata": {},
   "outputs": [
    {
     "data": {
      "image/png": "[encoded data removed]",
      "text/plain": [
       "<Figure size 432x288 with 1 Axes>"
      ]
     },
     "metadata": {},
     "output_type": "display_data"
    }
   ],
   "source": [
    "# Correlation between profit and budget_adj\n",
    "movie_df.plot(x='profit', y='budget_adj', kind='scatter');"
   ]
  },
  {
   "cell_type": "markdown",
   "metadata": {},
   "source": [
    "> Based on the above image, there is a strong correlation between ```profit``` and ```budget_adj```."
   ]
  },
  {
   "cell_type": "code",
   "execution_count": 88,
   "metadata": {},
   "outputs": [
    {
     "data": {
      "image/png": "[encoded data removed]",
      "text/plain": [
       "<Figure size 432x288 with 1 Axes>"
      ]
     },
     "metadata": {},
     "output_type": "display_data"
    }
   ],
   "source": [
    "# Correlation between profit and revenue_adj\n",
    "movie_df.plot(x='profit', y='revenue_adj', kind='scatter');"
   ]
  },
  {
   "cell_type": "markdown",
   "metadata": {},
   "source": [
    "> Based on the above image, there is a strong positive correlation between ```profit``` and ```revenue_adj```."
   ]
  },
  {
   "cell_type": "markdown",
   "metadata": {},
   "source": [
    "### Q1: What are the properties and attributes of the movies from year 1960 to 2015?"
   ]
  },
  {
   "cell_type": "markdown",
   "metadata": {},
   "source": [
    "#### Movie that makes the most and least profit?"
   ]
  },
  {
   "cell_type": "code",
   "execution_count": 89,
   "metadata": {},
   "outputs": [
    {
     "data": {
      "text/html": [
       "<div>\n",
       "<style scoped>\n",
       "    .dataframe tbody tr th:only-of-type {\n",
       "        vertical-align: middle;\n",
       "    }\n",
       "\n",
       "    .dataframe tbody tr th {\n",
       "        vertical-align: top;\n",
       "    }\n",
       "\n",
       "    .dataframe thead th {\n",
       "        text-align: right;\n",
       "    }\n",
       "</style>\n",
       "<table border=\"1\" class=\"dataframe\">\n",
       "  <thead>\n",
       "    <tr style=\"text-align: right;\">\n",
       "      <th></th>\n",
       "      <th>1329</th>\n",
       "      <th>2244</th>\n",
       "    </tr>\n",
       "  </thead>\n",
       "  <tbody>\n",
       "    <tr>\n",
       "      <th>original_title</th>\n",
       "      <td>Star Wars</td>\n",
       "      <td>The Warrior's Way</td>\n",
       "    </tr>\n",
       "    <tr>\n",
       "      <th>cast</th>\n",
       "      <td>Mark Hamill|Harrison Ford|Carrie Fisher|Peter ...</td>\n",
       "      <td>Kate Bosworth|Jang Dong-gun|Geoffrey Rush|Dann...</td>\n",
       "    </tr>\n",
       "    <tr>\n",
       "      <th>director</th>\n",
       "      <td>George Lucas</td>\n",
       "      <td>Sngmoo Lee</td>\n",
       "    </tr>\n",
       "    <tr>\n",
       "      <th>keywords</th>\n",
       "      <td>android|galaxy|hermit|death star|lightsaber</td>\n",
       "      <td>assassin|small town|revenge|deception|super speed</td>\n",
       "    </tr>\n",
       "    <tr>\n",
       "      <th>runtime</th>\n",
       "      <td>121</td>\n",
       "      <td>100</td>\n",
       "    </tr>\n",
       "    <tr>\n",
       "      <th>genres</th>\n",
       "      <td>Adventure|Action|Science Fiction</td>\n",
       "      <td>Adventure|Fantasy|Action|Western|Thriller</td>\n",
       "    </tr>\n",
       "    <tr>\n",
       "      <th>production_companies</th>\n",
       "      <td>Lucasfilm|Twentieth Century Fox Film Corporation</td>\n",
       "      <td>Boram Entertainment Inc.</td>\n",
       "    </tr>\n",
       "    <tr>\n",
       "      <th>release_date</th>\n",
       "      <td>1977-03-20 00:00:00</td>\n",
       "      <td>2010-12-02 00:00:00</td>\n",
       "    </tr>\n",
       "    <tr>\n",
       "      <th>release_year</th>\n",
       "      <td>1977</td>\n",
       "      <td>2010</td>\n",
       "    </tr>\n",
       "    <tr>\n",
       "      <th>budget_adj</th>\n",
       "      <td>3.95756e+07</td>\n",
       "      <td>4.25e+08</td>\n",
       "    </tr>\n",
       "    <tr>\n",
       "      <th>revenue_adj</th>\n",
       "      <td>2.78971e+09</td>\n",
       "      <td>1.10876e+07</td>\n",
       "    </tr>\n",
       "    <tr>\n",
       "      <th>profit</th>\n",
       "      <td>2.75014e+09</td>\n",
       "      <td>-4.13912e+08</td>\n",
       "    </tr>\n",
       "  </tbody>\n",
       "</table>\n",
       "</div>"
      ],
      "text/plain": [
       "                                                                   1329  \\\n",
       "original_title                                                Star Wars   \n",
       "cast                  Mark Hamill|Harrison Ford|Carrie Fisher|Peter ...   \n",
       "director                                                   George Lucas   \n",
       "keywords                    android|galaxy|hermit|death star|lightsaber   \n",
       "runtime                                                             121   \n",
       "genres                                 Adventure|Action|Science Fiction   \n",
       "production_companies   Lucasfilm|Twentieth Century Fox Film Corporation   \n",
       "release_date                                        1977-03-20 00:00:00   \n",
       "release_year                                                       1977   \n",
       "budget_adj                                                  3.95756e+07   \n",
       "revenue_adj                                                 2.78971e+09   \n",
       "profit                                                      2.75014e+09   \n",
       "\n",
       "                                                                   2244  \n",
       "original_title                                        The Warrior's Way  \n",
       "cast                  Kate Bosworth|Jang Dong-gun|Geoffrey Rush|Dann...  \n",
       "director                                                     Sngmoo Lee  \n",
       "keywords              assassin|small town|revenge|deception|super speed  \n",
       "runtime                                                             100  \n",
       "genres                        Adventure|Fantasy|Action|Western|Thriller  \n",
       "production_companies                           Boram Entertainment Inc.  \n",
       "release_date                                        2010-12-02 00:00:00  \n",
       "release_year                                                       2010  \n",
       "budget_adj                                                     4.25e+08  \n",
       "revenue_adj                                                 1.10876e+07  \n",
       "profit                                                     -4.13912e+08  "
      ]
     },
     "execution_count": 89,
     "metadata": {},
     "output_type": "execute_result"
    }
   ],
   "source": [
    "# Create function to calculate highest and lowest value\n",
    "def calculate_highest_lowest(column):\n",
    "    # get highest value\n",
    "    highest = movie_df[column].idxmax()\n",
    "    highest_details = pd.DataFrame(movie_df.loc[highest])\n",
    "    \n",
    "    # get lowest value\n",
    "    lowest = movie_df[column].idxmin()\n",
    "    lowest_details = pd.DataFrame(movie_df.loc[lowest])  \n",
    "    \n",
    "    # Combine both data into one table\n",
    "    info = pd.concat([highest_details, lowest_details], axis=1)\n",
    "    \n",
    "    return info\n",
    "\n",
    "# get movie that make the highest and lowest profit\n",
    "calculate_highest_lowest('profit')"
   ]
  },
  {
   "cell_type": "markdown",
   "metadata": {},
   "source": [
    "> Based on the table shown above, the movie 'Star Wars' has the highest profit, making more than 2.7 Billion dollars and the movie 'The Warrior's Way' make a lost by more than 400 Million dollars . Looking at the number of 'Stars Wars' series till today, I am not surprise 'Stars Wars' has the highest profit compare to all the movies. On the other hand, based on the statistics 'The Warrior's Way' has the lowest profit could be due to their high budget of more than 400 Million dollars."
   ]
  },
  {
   "cell_type": "markdown",
   "metadata": {},
   "source": [
    "#### Movie with the highest and lowest budget?"
   ]
  },
  {
   "cell_type": "code",
   "execution_count": 90,
   "metadata": {},
   "outputs": [
    {
     "data": {
      "text/html": [
       "<div>\n",
       "<style scoped>\n",
       "    .dataframe tbody tr th:only-of-type {\n",
       "        vertical-align: middle;\n",
       "    }\n",
       "\n",
       "    .dataframe tbody tr th {\n",
       "        vertical-align: top;\n",
       "    }\n",
       "\n",
       "    .dataframe thead th {\n",
       "        text-align: right;\n",
       "    }\n",
       "</style>\n",
       "<table border=\"1\" class=\"dataframe\">\n",
       "  <thead>\n",
       "    <tr style=\"text-align: right;\">\n",
       "      <th></th>\n",
       "      <th>2244</th>\n",
       "      <th>1151</th>\n",
       "    </tr>\n",
       "  </thead>\n",
       "  <tbody>\n",
       "    <tr>\n",
       "      <th>original_title</th>\n",
       "      <td>The Warrior's Way</td>\n",
       "      <td>Fear Clinic</td>\n",
       "    </tr>\n",
       "    <tr>\n",
       "      <th>cast</th>\n",
       "      <td>Kate Bosworth|Jang Dong-gun|Geoffrey Rush|Dann...</td>\n",
       "      <td>Thomas Dekker|Robert Englund|Cleopatra Coleman...</td>\n",
       "    </tr>\n",
       "    <tr>\n",
       "      <th>director</th>\n",
       "      <td>Sngmoo Lee</td>\n",
       "      <td>Robert Hall</td>\n",
       "    </tr>\n",
       "    <tr>\n",
       "      <th>keywords</th>\n",
       "      <td>assassin|small town|revenge|deception|super speed</td>\n",
       "      <td>phobia|doctor|fear</td>\n",
       "    </tr>\n",
       "    <tr>\n",
       "      <th>runtime</th>\n",
       "      <td>100</td>\n",
       "      <td>95</td>\n",
       "    </tr>\n",
       "    <tr>\n",
       "      <th>genres</th>\n",
       "      <td>Adventure|Fantasy|Action|Western|Thriller</td>\n",
       "      <td>Horror</td>\n",
       "    </tr>\n",
       "    <tr>\n",
       "      <th>production_companies</th>\n",
       "      <td>Boram Entertainment Inc.</td>\n",
       "      <td>Dry County Films|Anchor Bay Entertainment|Movi...</td>\n",
       "    </tr>\n",
       "    <tr>\n",
       "      <th>release_date</th>\n",
       "      <td>2010-12-02 00:00:00</td>\n",
       "      <td>2014-10-31 00:00:00</td>\n",
       "    </tr>\n",
       "    <tr>\n",
       "      <th>release_year</th>\n",
       "      <td>2010</td>\n",
       "      <td>2014</td>\n",
       "    </tr>\n",
       "    <tr>\n",
       "      <th>budget_adj</th>\n",
       "      <td>4.25e+08</td>\n",
       "      <td>0.921091</td>\n",
       "    </tr>\n",
       "    <tr>\n",
       "      <th>revenue_adj</th>\n",
       "      <td>1.10876e+07</td>\n",
       "      <td>1.15101e+08</td>\n",
       "    </tr>\n",
       "    <tr>\n",
       "      <th>profit</th>\n",
       "      <td>-4.13912e+08</td>\n",
       "      <td>-0.921091</td>\n",
       "    </tr>\n",
       "  </tbody>\n",
       "</table>\n",
       "</div>"
      ],
      "text/plain": [
       "                                                                   2244  \\\n",
       "original_title                                        The Warrior's Way   \n",
       "cast                  Kate Bosworth|Jang Dong-gun|Geoffrey Rush|Dann...   \n",
       "director                                                     Sngmoo Lee   \n",
       "keywords              assassin|small town|revenge|deception|super speed   \n",
       "runtime                                                             100   \n",
       "genres                        Adventure|Fantasy|Action|Western|Thriller   \n",
       "production_companies                           Boram Entertainment Inc.   \n",
       "release_date                                        2010-12-02 00:00:00   \n",
       "release_year                                                       2010   \n",
       "budget_adj                                                     4.25e+08   \n",
       "revenue_adj                                                 1.10876e+07   \n",
       "profit                                                     -4.13912e+08   \n",
       "\n",
       "                                                                   1151  \n",
       "original_title                                              Fear Clinic  \n",
       "cast                  Thomas Dekker|Robert Englund|Cleopatra Coleman...  \n",
       "director                                                    Robert Hall  \n",
       "keywords                                             phobia|doctor|fear  \n",
       "runtime                                                              95  \n",
       "genres                                                           Horror  \n",
       "production_companies  Dry County Films|Anchor Bay Entertainment|Movi...  \n",
       "release_date                                        2014-10-31 00:00:00  \n",
       "release_year                                                       2014  \n",
       "budget_adj                                                     0.921091  \n",
       "revenue_adj                                                 1.15101e+08  \n",
       "profit                                                        -0.921091  "
      ]
     },
     "execution_count": 90,
     "metadata": {},
     "output_type": "execute_result"
    }
   ],
   "source": [
    "# get movie with the highest and lowest budget\n",
    "calculate_highest_lowest('budget_adj')"
   ]
  },
  {
   "cell_type": "markdown",
   "metadata": {},
   "source": [
    "> As expected the movie 'The Warrior's Way' has the highest budget of more than 400 Million dollars. The movie 'Lost & Found 'has the lowest budget of only 1 dollar which doesn't seems to be right. I did a search on the web and found that the movie 'Lost & Found' has a budget of 30 million dollars which is different from the one shown in the dataset so there could be some error with the values. Therefore, this movie may not be the one with the lowest budget."
   ]
  },
  {
   "cell_type": "markdown",
   "metadata": {},
   "source": [
    "#### Movie with highest and lowest revenue?"
   ]
  },
  {
   "cell_type": "code",
   "execution_count": 91,
   "metadata": {},
   "outputs": [
    {
     "data": {
      "text/html": [
       "<div>\n",
       "<style scoped>\n",
       "    .dataframe tbody tr th:only-of-type {\n",
       "        vertical-align: middle;\n",
       "    }\n",
       "\n",
       "    .dataframe tbody tr th {\n",
       "        vertical-align: top;\n",
       "    }\n",
       "\n",
       "    .dataframe thead th {\n",
       "        text-align: right;\n",
       "    }\n",
       "</style>\n",
       "<table border=\"1\" class=\"dataframe\">\n",
       "  <thead>\n",
       "    <tr style=\"text-align: right;\">\n",
       "      <th></th>\n",
       "      <th>1386</th>\n",
       "      <th>5067</th>\n",
       "    </tr>\n",
       "  </thead>\n",
       "  <tbody>\n",
       "    <tr>\n",
       "      <th>original_title</th>\n",
       "      <td>Avatar</td>\n",
       "      <td>Shattered Glass</td>\n",
       "    </tr>\n",
       "    <tr>\n",
       "      <th>cast</th>\n",
       "      <td>Sam Worthington|Zoe Saldana|Sigourney Weaver|S...</td>\n",
       "      <td>Hayden Christensen|Peter Sarsgaard|ChloÃ« Sevi...</td>\n",
       "    </tr>\n",
       "    <tr>\n",
       "      <th>director</th>\n",
       "      <td>James Cameron</td>\n",
       "      <td>Billy Ray</td>\n",
       "    </tr>\n",
       "    <tr>\n",
       "      <th>keywords</th>\n",
       "      <td>culture clash|future|space war|space colony|so...</td>\n",
       "      <td>NaN</td>\n",
       "    </tr>\n",
       "    <tr>\n",
       "      <th>runtime</th>\n",
       "      <td>162</td>\n",
       "      <td>94</td>\n",
       "    </tr>\n",
       "    <tr>\n",
       "      <th>genres</th>\n",
       "      <td>Action|Adventure|Fantasy|Science Fiction</td>\n",
       "      <td>Drama|History</td>\n",
       "    </tr>\n",
       "    <tr>\n",
       "      <th>production_companies</th>\n",
       "      <td>Ingenious Film Partners|Twentieth Century Fox ...</td>\n",
       "      <td>Lions Gate Films|Cruise/Wagner Productions|Bau...</td>\n",
       "    </tr>\n",
       "    <tr>\n",
       "      <th>release_date</th>\n",
       "      <td>2009-12-10 00:00:00</td>\n",
       "      <td>2003-11-14 00:00:00</td>\n",
       "    </tr>\n",
       "    <tr>\n",
       "      <th>release_year</th>\n",
       "      <td>2009</td>\n",
       "      <td>2003</td>\n",
       "    </tr>\n",
       "    <tr>\n",
       "      <th>budget_adj</th>\n",
       "      <td>2.40887e+08</td>\n",
       "      <td>7.11212e+06</td>\n",
       "    </tr>\n",
       "    <tr>\n",
       "      <th>revenue_adj</th>\n",
       "      <td>2.82712e+09</td>\n",
       "      <td>2.37071</td>\n",
       "    </tr>\n",
       "    <tr>\n",
       "      <th>profit</th>\n",
       "      <td>2.58624e+09</td>\n",
       "      <td>-7.11211e+06</td>\n",
       "    </tr>\n",
       "  </tbody>\n",
       "</table>\n",
       "</div>"
      ],
      "text/plain": [
       "                                                                   1386  \\\n",
       "original_title                                                   Avatar   \n",
       "cast                  Sam Worthington|Zoe Saldana|Sigourney Weaver|S...   \n",
       "director                                                  James Cameron   \n",
       "keywords              culture clash|future|space war|space colony|so...   \n",
       "runtime                                                             162   \n",
       "genres                         Action|Adventure|Fantasy|Science Fiction   \n",
       "production_companies  Ingenious Film Partners|Twentieth Century Fox ...   \n",
       "release_date                                        2009-12-10 00:00:00   \n",
       "release_year                                                       2009   \n",
       "budget_adj                                                  2.40887e+08   \n",
       "revenue_adj                                                 2.82712e+09   \n",
       "profit                                                      2.58624e+09   \n",
       "\n",
       "                                                                   5067  \n",
       "original_title                                          Shattered Glass  \n",
       "cast                  Hayden Christensen|Peter Sarsgaard|ChloÃ« Sevi...  \n",
       "director                                                      Billy Ray  \n",
       "keywords                                                            NaN  \n",
       "runtime                                                              94  \n",
       "genres                                                    Drama|History  \n",
       "production_companies  Lions Gate Films|Cruise/Wagner Productions|Bau...  \n",
       "release_date                                        2003-11-14 00:00:00  \n",
       "release_year                                                       2003  \n",
       "budget_adj                                                  7.11212e+06  \n",
       "revenue_adj                                                     2.37071  \n",
       "profit                                                     -7.11211e+06  "
      ]
     },
     "execution_count": 91,
     "metadata": {},
     "output_type": "execute_result"
    }
   ],
   "source": [
    "# get movie that make the highest and lowest revenue\n",
    "calculate_highest_lowest('revenue_adj')"
   ]
  },
  {
   "cell_type": "markdown",
   "metadata": {},
   "source": [
    "> Based on the table shown above, the movie 'Avatar' has the highest revenue, making more than 2.8 Billion dollars and the movie 'Shattered Glass' making only 2 dollars which doesn't seems to be right. I did a search on the web and found that the movie 'Shattered Glass' has a box office result of 2.9 Million which is different from the on shown in the datase. This could be due to typo in the dataset so this movie may not be the one with the lowest revenue."
   ]
  },
  {
   "cell_type": "markdown",
   "metadata": {},
   "source": [
    "#### Movie with the longest and shortest runtime?"
   ]
  },
  {
   "cell_type": "code",
   "execution_count": 92,
   "metadata": {},
   "outputs": [
    {
     "data": {
      "text/html": [
       "<div>\n",
       "<style scoped>\n",
       "    .dataframe tbody tr th:only-of-type {\n",
       "        vertical-align: middle;\n",
       "    }\n",
       "\n",
       "    .dataframe tbody tr th {\n",
       "        vertical-align: top;\n",
       "    }\n",
       "\n",
       "    .dataframe thead th {\n",
       "        text-align: right;\n",
       "    }\n",
       "</style>\n",
       "<table border=\"1\" class=\"dataframe\">\n",
       "  <thead>\n",
       "    <tr style=\"text-align: right;\">\n",
       "      <th></th>\n",
       "      <th>3894</th>\n",
       "      <th>4883</th>\n",
       "    </tr>\n",
       "  </thead>\n",
       "  <tbody>\n",
       "    <tr>\n",
       "      <th>original_title</th>\n",
       "      <td>The Story of Film: An Odyssey</td>\n",
       "      <td>Fresh Guacamole</td>\n",
       "    </tr>\n",
       "    <tr>\n",
       "      <th>cast</th>\n",
       "      <td>Mark Cousins|Jean-Michel Frodon|Cari Beauchamp...</td>\n",
       "      <td>NaN</td>\n",
       "    </tr>\n",
       "    <tr>\n",
       "      <th>director</th>\n",
       "      <td>Mark Cousins</td>\n",
       "      <td>PES</td>\n",
       "    </tr>\n",
       "    <tr>\n",
       "      <th>keywords</th>\n",
       "      <td>cinema|nouvelle vague|hindi cinema|cinema novo...</td>\n",
       "      <td>NaN</td>\n",
       "    </tr>\n",
       "    <tr>\n",
       "      <th>runtime</th>\n",
       "      <td>900</td>\n",
       "      <td>2</td>\n",
       "    </tr>\n",
       "    <tr>\n",
       "      <th>genres</th>\n",
       "      <td>Documentary</td>\n",
       "      <td>Animation</td>\n",
       "    </tr>\n",
       "    <tr>\n",
       "      <th>production_companies</th>\n",
       "      <td>NaN</td>\n",
       "      <td>NaN</td>\n",
       "    </tr>\n",
       "    <tr>\n",
       "      <th>release_date</th>\n",
       "      <td>2011-09-03 00:00:00</td>\n",
       "      <td>2012-03-02 00:00:00</td>\n",
       "    </tr>\n",
       "    <tr>\n",
       "      <th>release_year</th>\n",
       "      <td>2011</td>\n",
       "      <td>2012</td>\n",
       "    </tr>\n",
       "    <tr>\n",
       "      <th>budget_adj</th>\n",
       "      <td>3.68891e+07</td>\n",
       "      <td>3.68891e+07</td>\n",
       "    </tr>\n",
       "    <tr>\n",
       "      <th>revenue_adj</th>\n",
       "      <td>1.15101e+08</td>\n",
       "      <td>1.15101e+08</td>\n",
       "    </tr>\n",
       "    <tr>\n",
       "      <th>profit</th>\n",
       "      <td>0</td>\n",
       "      <td>0</td>\n",
       "    </tr>\n",
       "  </tbody>\n",
       "</table>\n",
       "</div>"
      ],
      "text/plain": [
       "                                                                   3894  \\\n",
       "original_title                            The Story of Film: An Odyssey   \n",
       "cast                  Mark Cousins|Jean-Michel Frodon|Cari Beauchamp...   \n",
       "director                                                   Mark Cousins   \n",
       "keywords              cinema|nouvelle vague|hindi cinema|cinema novo...   \n",
       "runtime                                                             900   \n",
       "genres                                                      Documentary   \n",
       "production_companies                                                NaN   \n",
       "release_date                                        2011-09-03 00:00:00   \n",
       "release_year                                                       2011   \n",
       "budget_adj                                                  3.68891e+07   \n",
       "revenue_adj                                                 1.15101e+08   \n",
       "profit                                                                0   \n",
       "\n",
       "                                     4883  \n",
       "original_title            Fresh Guacamole  \n",
       "cast                                  NaN  \n",
       "director                              PES  \n",
       "keywords                              NaN  \n",
       "runtime                                 2  \n",
       "genres                          Animation  \n",
       "production_companies                  NaN  \n",
       "release_date          2012-03-02 00:00:00  \n",
       "release_year                         2012  \n",
       "budget_adj                    3.68891e+07  \n",
       "revenue_adj                   1.15101e+08  \n",
       "profit                                  0  "
      ]
     },
     "execution_count": 92,
     "metadata": {},
     "output_type": "execute_result"
    }
   ],
   "source": [
    "# get movie that has the longest and shortest runtime\n",
    "calculate_highest_lowest('runtime')"
   ]
  },
  {
   "cell_type": "markdown",
   "metadata": {},
   "source": [
    ">- 900 minutes is the longest movie titled 'The Story of Film: An Odyssey', which is equivalent to 15 hours! 'The Story of Film: An Odyssey' is a documentary film about the history of film, presented on television in 15 one-hour chapters.\n",
    ">- 2 minute is the shortest movie goes to 'Fresh Guacamole' with a running time of only 2 minutes. 'Fresh Guacamole' is a 2012 American animated short film written and directed by PES."
   ]
  },
  {
   "cell_type": "markdown",
   "metadata": {},
   "source": [
    "#### The average movie runtime?"
   ]
  },
  {
   "cell_type": "code",
   "execution_count": 93,
   "metadata": {},
   "outputs": [
    {
     "data": {
      "text/plain": [
       "102.36385453202878"
      ]
     },
     "execution_count": 93,
     "metadata": {},
     "output_type": "execute_result"
    }
   ],
   "source": [
    "# Return the average runtime of the movies\n",
    "movie_df['runtime'].mean()"
   ]
  },
  {
   "cell_type": "markdown",
   "metadata": {},
   "source": [
    "> Based on the above, the average runtime of the movies is 102 minutes. Let's use visualization to see the distribution of the runtime."
   ]
  },
  {
   "cell_type": "code",
   "execution_count": 94,
   "metadata": {},
   "outputs": [
    {
     "data": {
      "image/png": "[encoded data removed]",
      "text/plain": [
       "<Figure size 1050x630 with 1 Axes>"
      ]
     },
     "metadata": {},
     "output_type": "display_data"
    }
   ],
   "source": [
    "# Create box plot to see the distribution of the runtime \n",
    "plt.figure(figsize=(10,6), dpi = 105)\n",
    "\n",
    "# Use seaborn to generate the boxplot\n",
    "sns.boxplot(movie_df['runtime'], linewidth = 2)\n",
    "# Diplay the plot\n",
    "plt.show()"
   ]
  },
  {
   "cell_type": "markdown",
   "metadata": {},
   "source": [
    "> We can see from the above that most of the movies have an average of 100 minutes. A number of outliers of movie with more than 700 minutes."
   ]
  },
  {
   "cell_type": "code",
   "execution_count": 95,
   "metadata": {},
   "outputs": [
    {
     "data": {
      "image/png": "[encoded data removed]",
      "text/plain": [
       "<Figure size 1000x500 with 1 Axes>"
      ]
     },
     "metadata": {},
     "output_type": "display_data"
    }
   ],
   "source": [
    "# Create histogram to see the distribution of the runtime \n",
    "plt.figure(figsize=(10,5), dpi = 100)\n",
    "\n",
    "# x-axis \n",
    "plt.xlabel('Movie Runtime', fontsize = 15)\n",
    "# y-axis \n",
    "plt.ylabel('No. of Movies', fontsize=15)\n",
    "# Name of the graph\n",
    "plt.title('Movie Runtime Distribution', fontsize=15)\n",
    "\n",
    "# Plot the Histogram\n",
    "plt.hist(movie_df['runtime'], rwidth = 0.9, bins =35)\n",
    "# Diplay the plot\n",
    "plt.show()"
   ]
  },
  {
   "cell_type": "markdown",
   "metadata": {},
   "source": [
    "> Again, I can see that more than 6,000 of the movies are of 100+ minutes."
   ]
  },
  {
   "cell_type": "code",
   "execution_count": 96,
   "metadata": {},
   "outputs": [
    {
     "data": {
      "text/plain": [
       "count    10865.000000\n",
       "mean       102.363855\n",
       "std         30.904039\n",
       "min          2.000000\n",
       "25%         90.000000\n",
       "50%         99.000000\n",
       "75%        111.000000\n",
       "max        900.000000\n",
       "Name: runtime, dtype: float64"
      ]
     },
     "execution_count": 96,
     "metadata": {},
     "output_type": "execute_result"
    }
   ],
   "source": [
    "# Get the descriptive statistics for the runtime column\n",
    "movie_df['runtime'].describe()"
   ]
  },
  {
   "cell_type": "markdown",
   "metadata": {},
   "source": [
    ">Based on the analysis above, I can conclude that:\n",
    "- 25% of movies have a runtime of 90 minutes.\n",
    "- 50% of movies have a runtime of 99 minutes.\n",
    "- 75% of movies have a runtime of 111 minutes.\n",
    "- Average of the movies have a runtime of 102 minutes.\n",
    "- The longest movie is 900 minutes and the movie is 'The Story of Film: An Odyssey'.\n",
    "- The shortest movie is 2 minute and the movie is 'Fresh Guacamole'."
   ]
  },
  {
   "cell_type": "markdown",
   "metadata": {},
   "source": [
    "#### The month with the most movies released?"
   ]
  },
  {
   "cell_type": "code",
   "execution_count": 97,
   "metadata": {},
   "outputs": [],
   "source": [
    "# Create a new column month by extracting the month from the release date\n",
    "movie_df['month'] = movie_df['release_date'].apply(lambda x: x.month)"
   ]
  },
  {
   "cell_type": "code",
   "execution_count": 98,
   "metadata": {},
   "outputs": [
    {
     "data": {
      "text/plain": [
       "month\n",
       "1      919\n",
       "2      691\n",
       "3      822\n",
       "4      797\n",
       "5      809\n",
       "6      827\n",
       "7      799\n",
       "8      918\n",
       "9     1331\n",
       "10    1153\n",
       "11     814\n",
       "12     985\n",
       "Name: original_title, dtype: int64"
      ]
     },
     "execution_count": 98,
     "metadata": {},
     "output_type": "execute_result"
    }
   ],
   "source": [
    "# Group by month and count of the movies each month.\n",
    "movie_per_month = movie_df.groupby('month')['original_title'].count()\n",
    "movie_per_month"
   ]
  },
  {
   "cell_type": "code",
   "execution_count": 99,
   "metadata": {},
   "outputs": [
    {
     "data": {
      "text/plain": [
       "9"
      ]
     },
     "execution_count": 99,
     "metadata": {},
     "output_type": "execute_result"
    }
   ],
   "source": [
    "# To get the month with the highest movie release\n",
    "movie_per_month.idxmax()"
   ]
  },
  {
   "cell_type": "markdown",
   "metadata": {},
   "source": [
    "> The month with the highest movie release is September."
   ]
  },
  {
   "cell_type": "code",
   "execution_count": 100,
   "metadata": {},
   "outputs": [
    {
     "data": {
      "image/png": "[encoded data removed]",
      "text/plain": [
       "<Figure size 1080x576 with 1 Axes>"
      ]
     },
     "metadata": {},
     "output_type": "display_data"
    }
   ],
   "source": [
    "# Create a bar chart\n",
    "sns.set_style('darkgrid')\n",
    "month_name = ['Jan', 'Feb', 'Mar', 'Apr', 'May', 'Jun', 'Jul', 'Aug', 'Sep', 'Oct', 'Nov', 'Dec']\n",
    "plt.figure(figsize=(15,8))\n",
    "plt.bar([1,2,3,4,5,6,7,8,9,10,11,12], movie_per_month, tick_label = month_name)\n",
    "plt.title('Month Released by month')\n",
    "plt.ylabel('No. of movies')\n",
    "plt.xlabel('Month');"
   ]
  },
  {
   "cell_type": "markdown",
   "metadata": {},
   "source": [
    ">From the above analysis, we can see that Sep (> 1,200 movies) is the most popular month followed by Oct (> 1,000 movies) and Dec (> more than 800 movies) for movies release."
   ]
  },
  {
   "cell_type": "markdown",
   "metadata": {},
   "source": [
    "#### The year with the most movies released?"
   ]
  },
  {
   "cell_type": "code",
   "execution_count": 101,
   "metadata": {},
   "outputs": [
    {
     "data": {
      "text/plain": [
       "release_year\n",
       "1960    32\n",
       "1961    31\n",
       "1962    32\n",
       "1963    34\n",
       "1964    42\n",
       "Name: original_title, dtype: int64"
      ]
     },
     "execution_count": 101,
     "metadata": {},
     "output_type": "execute_result"
    }
   ],
   "source": [
    "# Group by year and count of the movies each year.\n",
    "movie_per_year = movie_df.groupby('release_year')['original_title'].count()\n",
    "movie_per_year.head()"
   ]
  },
  {
   "cell_type": "code",
   "execution_count": 102,
   "metadata": {},
   "outputs": [
    {
     "data": {
      "text/plain": [
       "2014"
      ]
     },
     "execution_count": 102,
     "metadata": {},
     "output_type": "execute_result"
    }
   ],
   "source": [
    "# To get the year with the highest movie release\n",
    "movie_per_year.idxmax()"
   ]
  },
  {
   "cell_type": "markdown",
   "metadata": {},
   "source": [
    ">The year with the highest movie release is in year 2014."
   ]
  },
  {
   "cell_type": "code",
   "execution_count": 103,
   "metadata": {},
   "outputs": [
    {
     "data": {
      "image/png": "[encoded data removed]",
      "text/plain": [
       "<Figure size 1560x780 with 1 Axes>"
      ]
     },
     "metadata": {},
     "output_type": "display_data"
    }
   ],
   "source": [
    "# Figure size(width, height)\n",
    "plt.figure(figsize=(12,6), dpi = 130)\n",
    "\n",
    "# x-axis\n",
    "plt.xlabel('Year of Movie Released', fontsize = 12)\n",
    "# y-axis\n",
    "plt.ylabel('No. of Movies', fontsize = 12)\n",
    "# Title\n",
    "plt.title('Movie Released by Year')\n",
    "\n",
    "# Plot Line chart\n",
    "plt.plot(movie_per_year)\n",
    "\n",
    "# Display plot\n",
    "plt.show()"
   ]
  },
  {
   "cell_type": "markdown",
   "metadata": {},
   "source": [
    ">Interestingly based on the above diagram, we can see that the trend of movie released each year increase year by year. I noticed that there is two significant drop, one is during late 2000s to 2010 and the other is drop around year 2015."
   ]
  },
  {
   "cell_type": "code",
   "execution_count": 104,
   "metadata": {},
   "outputs": [
    {
     "data": {
      "text/plain": [
       "release_year\n",
       "2006    408\n",
       "2007    438\n",
       "2008    496\n",
       "2009    533\n",
       "2010    489\n",
       "2011    540\n",
       "2012    588\n",
       "2013    659\n",
       "2014    700\n",
       "2015    629\n",
       "Name: original_title, dtype: int64"
      ]
     },
     "execution_count": 104,
     "metadata": {},
     "output_type": "execute_result"
    }
   ],
   "source": [
    "# Group by year and count of the movies each year.\n",
    "movie_per_year = movie_df.groupby('release_year')['original_title'].count()\n",
    "movie_per_year.tail(10)"
   ]
  },
  {
   "cell_type": "markdown",
   "metadata": {},
   "source": [
    ">By looking at the last 10 rows from the movies by year, we can see that the significant drop of movies are in:\n",
    "- **Year 2009**: a drop of 44 movies from year 2009 (533 movies) to year 2010 (489 movies).\n",
    "- **Year 2015**: a drop of 71 movies from year 2014 (700 movies) to year 2015 (629 movies)."
   ]
  },
  {
   "cell_type": "markdown",
   "metadata": {},
   "source": [
    "#### The year that makes the most profit?"
   ]
  },
  {
   "cell_type": "code",
   "execution_count": 105,
   "metadata": {},
   "outputs": [
    {
     "data": {
      "image/png": "[encoded data removed]",
      "text/plain": [
       "<Figure size 1560x780 with 1 Axes>"
      ]
     },
     "metadata": {},
     "output_type": "display_data"
    }
   ],
   "source": [
    "# Groupby release year and profit\n",
    "profit_by_year = movie_df.groupby('release_year')['profit'].sum()\n",
    "\n",
    "# Figure size(width, height)\n",
    "plt.figure(figsize=(12,6), dpi = 130)\n",
    "\n",
    "# x-axis\n",
    "plt.xlabel('Movies Released Year', fontsize = 12)\n",
    "# y-axis\n",
    "plt.ylabel('Total Profit', fontsize = 12)\n",
    "# Title\n",
    "plt.title('Total Profit by Movies Released Year')\n",
    "\n",
    "# Plot line Chart\n",
    "plt.plot(profit_by_year)\n",
    "\n",
    "# Display the line Chart\n",
    "plt.show()"
   ]
  },
  {
   "cell_type": "code",
   "execution_count": 106,
   "metadata": {},
   "outputs": [
    {
     "data": {
      "text/plain": [
       "2015"
      ]
     },
     "execution_count": 106,
     "metadata": {},
     "output_type": "execute_result"
    }
   ],
   "source": [
    "# Which year made the highest profit\n",
    "profit_by_year.idxmax()"
   ]
  },
  {
   "cell_type": "markdown",
   "metadata": {},
   "source": [
    ">As shown above, the movies released in the year 2015 has the highest profit of more than 17 Billion dollars."
   ]
  },
  {
   "cell_type": "markdown",
   "metadata": {},
   "source": [
    "#### Who starred in the most movies?"
   ]
  },
  {
   "cell_type": "code",
   "execution_count": 107,
   "metadata": {},
   "outputs": [],
   "source": [
    "def extract_data(column_name):\n",
    "\n",
    "    data = movie_df[column_name].str.cat(sep = '|')\n",
    "    \n",
    "    # Create pandas series and store the values separately\n",
    "    data = pd.Series(data.split('|'))\n",
    "    \n",
    "    # Display value count in descending order\n",
    "    count = data.value_counts(ascending = False)\n",
    "    \n",
    "    return count"
   ]
  },
  {
   "cell_type": "code",
   "execution_count": 108,
   "metadata": {},
   "outputs": [
    {
     "data": {
      "text/plain": [
       "Robert De Niro       72\n",
       "Samuel L. Jackson    71\n",
       "Bruce Willis         62\n",
       "Nicolas Cage         61\n",
       "Michael Caine        53\n",
       "Robin Williams       51\n",
       "John Cusack          50\n",
       "John Goodman         49\n",
       "Morgan Freeman       49\n",
       "Liam Neeson          48\n",
       "dtype: int64"
      ]
     },
     "execution_count": 108,
     "metadata": {},
     "output_type": "execute_result"
    }
   ],
   "source": [
    "# Display top 10 casts\n",
    "cast = extract_data('cast')\n",
    "cast.head(10)"
   ]
  },
  {
   "cell_type": "markdown",
   "metadata": {},
   "source": [
    ">Looks like the top two most hardworking casts for the 55 years between 1960 to 2015 are Robert De Niro and Samuel L. Jackson. They are involved in more than 70 movies."
   ]
  },
  {
   "cell_type": "markdown",
   "metadata": {},
   "source": [
    "#### Who directed the most movies?"
   ]
  },
  {
   "cell_type": "code",
   "execution_count": 109,
   "metadata": {},
   "outputs": [
    {
     "data": {
      "text/plain": [
       "Woody Allen          46\n",
       "Clint Eastwood       34\n",
       "Martin Scorsese      31\n",
       "Steven Spielberg     30\n",
       "Steven Soderbergh    23\n",
       "Ridley Scott         23\n",
       "Ron Howard           22\n",
       "Joel Schumacher      21\n",
       "Brian De Palma       20\n",
       "Tim Burton           20\n",
       "dtype: int64"
      ]
     },
     "execution_count": 109,
     "metadata": {},
     "output_type": "execute_result"
    }
   ],
   "source": [
    "# Display top 10 directors\n",
    "director = extract_data('director')\n",
    "director.head(10)"
   ]
  },
  {
   "cell_type": "markdown",
   "metadata": {},
   "source": [
    ">The top director goes to Woody Allen who directed 46 movies for the 55 years between 1960 to 2015."
   ]
  },
  {
   "cell_type": "markdown",
   "metadata": {},
   "source": [
    "#### The most popular production companies?"
   ]
  },
  {
   "cell_type": "code",
   "execution_count": 110,
   "metadata": {},
   "outputs": [
    {
     "data": {
      "text/plain": [
       "Universal Pictures                        522\n",
       "Warner Bros.                              509\n",
       "Paramount Pictures                        431\n",
       "Twentieth Century Fox Film Corporation    282\n",
       "Columbia Pictures                         272\n",
       "New Line Cinema                           219\n",
       "Metro-Goldwyn-Mayer (MGM)                 218\n",
       "Walt Disney Pictures                      214\n",
       "Touchstone Pictures                       178\n",
       "Columbia Pictures Corporation             160\n",
       "dtype: int64"
      ]
     },
     "execution_count": 110,
     "metadata": {},
     "output_type": "execute_result"
    }
   ],
   "source": [
    "# Display top 10 production companies\n",
    "production_companies = extract_data('production_companies')\n",
    "production_companies.head(10)"
   ]
  },
  {
   "cell_type": "markdown",
   "metadata": {},
   "source": [
    ">The top production is Universal Pictures (522 movies), Warner Bros (509 movies) and Paramount Picture (431 movies). Amazing that the top three production companies produces more than 400 movies for the 55 years between 1960 to 2015."
   ]
  },
  {
   "cell_type": "markdown",
   "metadata": {},
   "source": [
    "#### The most popular genre?"
   ]
  },
  {
   "cell_type": "code",
   "execution_count": 111,
   "metadata": {},
   "outputs": [
    {
     "data": {
      "text/plain": [
       "Drama              4760\n",
       "Comedy             3793\n",
       "Thriller           2907\n",
       "Action             2384\n",
       "Romance            1712\n",
       "Horror             1637\n",
       "Adventure          1471\n",
       "Crime              1354\n",
       "Family             1231\n",
       "Science Fiction    1229\n",
       "dtype: int64"
      ]
     },
     "execution_count": 111,
     "metadata": {},
     "output_type": "execute_result"
    }
   ],
   "source": [
    "# Display top 10 genres\n",
    "genres = extract_data('genres')\n",
    "genres.head(10)"
   ]
  },
  {
   "cell_type": "markdown",
   "metadata": {},
   "source": [
    ">The top two genres are Drama (4,760 movies) and Comedy (3,793 movies) that has more than 3000 movies."
   ]
  },
  {
   "cell_type": "markdown",
   "metadata": {},
   "source": [
    "#### The most common keywords?"
   ]
  },
  {
   "cell_type": "code",
   "execution_count": 112,
   "metadata": {},
   "outputs": [
    {
     "data": {
      "text/plain": [
       "woman director      413\n",
       "independent film    396\n",
       "based on novel      278\n",
       "sex                 272\n",
       "sport               216\n",
       "murder              204\n",
       "biography           169\n",
       "musical             169\n",
       "new york            163\n",
       "suspense            159\n",
       "dtype: int64"
      ]
     },
     "execution_count": 112,
     "metadata": {},
     "output_type": "execute_result"
    }
   ],
   "source": [
    "# Display top 10 keywords\n",
    "keywords = extract_data('keywords')\n",
    "keywords.head(10)"
   ]
  },
  {
   "cell_type": "markdown",
   "metadata": {},
   "source": [
    ">The top keywords are 'woman director' and 'independent film' with more than 300 movies. Surprisingly female director (413 movies) and independent film (396 movies) makes the most movies for the 55 years between 1960 to 2015."
   ]
  },
  {
   "cell_type": "markdown",
   "metadata": {},
   "source": [
    "### Research Question 2 - What kind of properties are associated with movies that have high profit?\n",
    "\n",
    "In order to analyze on the properties that are associated with movies that have high profit, I will have to filter the dataset to movies that made profit of more than 100 Million dollars."
   ]
  },
  {
   "cell_type": "code",
   "execution_count": 113,
   "metadata": {},
   "outputs": [
    {
     "data": {
      "text/html": [
       "<div>\n",
       "<style scoped>\n",
       "    .dataframe tbody tr th:only-of-type {\n",
       "        vertical-align: middle;\n",
       "    }\n",
       "\n",
       "    .dataframe tbody tr th {\n",
       "        vertical-align: top;\n",
       "    }\n",
       "\n",
       "    .dataframe thead th {\n",
       "        text-align: right;\n",
       "    }\n",
       "</style>\n",
       "<table border=\"1\" class=\"dataframe\">\n",
       "  <thead>\n",
       "    <tr style=\"text-align: right;\">\n",
       "      <th></th>\n",
       "      <th>original_title</th>\n",
       "      <th>cast</th>\n",
       "      <th>director</th>\n",
       "      <th>keywords</th>\n",
       "      <th>runtime</th>\n",
       "      <th>genres</th>\n",
       "      <th>production_companies</th>\n",
       "      <th>release_date</th>\n",
       "      <th>release_year</th>\n",
       "      <th>budget_adj</th>\n",
       "      <th>revenue_adj</th>\n",
       "      <th>profit</th>\n",
       "      <th>month</th>\n",
       "    </tr>\n",
       "  </thead>\n",
       "  <tbody>\n",
       "    <tr>\n",
       "      <th>0</th>\n",
       "      <td>Jurassic World</td>\n",
       "      <td>Chris Pratt|Bryce Dallas Howard|Irrfan Khan|Vi...</td>\n",
       "      <td>Colin Trevorrow</td>\n",
       "      <td>monster|dna|tyrannosaurus rex|velociraptor|island</td>\n",
       "      <td>124.0</td>\n",
       "      <td>Action|Adventure|Science Fiction|Thriller</td>\n",
       "      <td>Universal Studios|Amblin Entertainment|Legenda...</td>\n",
       "      <td>2015-06-09</td>\n",
       "      <td>2015</td>\n",
       "      <td>1.379999e+08</td>\n",
       "      <td>1.392446e+09</td>\n",
       "      <td>1.254446e+09</td>\n",
       "      <td>6</td>\n",
       "    </tr>\n",
       "    <tr>\n",
       "      <th>1</th>\n",
       "      <td>Mad Max: Fury Road</td>\n",
       "      <td>Tom Hardy|Charlize Theron|Hugh Keays-Byrne|Nic...</td>\n",
       "      <td>George Miller</td>\n",
       "      <td>future|chase|post-apocalyptic|dystopia|australia</td>\n",
       "      <td>120.0</td>\n",
       "      <td>Action|Adventure|Science Fiction|Thriller</td>\n",
       "      <td>Village Roadshow Pictures|Kennedy Miller Produ...</td>\n",
       "      <td>2015-05-13</td>\n",
       "      <td>2015</td>\n",
       "      <td>1.379999e+08</td>\n",
       "      <td>3.481613e+08</td>\n",
       "      <td>2.101614e+08</td>\n",
       "      <td>5</td>\n",
       "    </tr>\n",
       "    <tr>\n",
       "      <th>2</th>\n",
       "      <td>Insurgent</td>\n",
       "      <td>Shailene Woodley|Theo James|Kate Winslet|Ansel...</td>\n",
       "      <td>Robert Schwentke</td>\n",
       "      <td>based on novel|revolution|dystopia|sequel|dyst...</td>\n",
       "      <td>119.0</td>\n",
       "      <td>Adventure|Science Fiction|Thriller</td>\n",
       "      <td>Summit Entertainment|Mandeville Films|Red Wago...</td>\n",
       "      <td>2015-03-18</td>\n",
       "      <td>2015</td>\n",
       "      <td>1.012000e+08</td>\n",
       "      <td>2.716190e+08</td>\n",
       "      <td>1.704191e+08</td>\n",
       "      <td>3</td>\n",
       "    </tr>\n",
       "  </tbody>\n",
       "</table>\n",
       "</div>"
      ],
      "text/plain": [
       "       original_title                                               cast  \\\n",
       "0      Jurassic World  Chris Pratt|Bryce Dallas Howard|Irrfan Khan|Vi...   \n",
       "1  Mad Max: Fury Road  Tom Hardy|Charlize Theron|Hugh Keays-Byrne|Nic...   \n",
       "2           Insurgent  Shailene Woodley|Theo James|Kate Winslet|Ansel...   \n",
       "\n",
       "           director                                           keywords  \\\n",
       "0   Colin Trevorrow  monster|dna|tyrannosaurus rex|velociraptor|island   \n",
       "1     George Miller   future|chase|post-apocalyptic|dystopia|australia   \n",
       "2  Robert Schwentke  based on novel|revolution|dystopia|sequel|dyst...   \n",
       "\n",
       "   runtime                                     genres  \\\n",
       "0    124.0  Action|Adventure|Science Fiction|Thriller   \n",
       "1    120.0  Action|Adventure|Science Fiction|Thriller   \n",
       "2    119.0         Adventure|Science Fiction|Thriller   \n",
       "\n",
       "                                production_companies release_date  \\\n",
       "0  Universal Studios|Amblin Entertainment|Legenda...   2015-06-09   \n",
       "1  Village Roadshow Pictures|Kennedy Miller Produ...   2015-05-13   \n",
       "2  Summit Entertainment|Mandeville Films|Red Wago...   2015-03-18   \n",
       "\n",
       "   release_year    budget_adj   revenue_adj        profit  month  \n",
       "0          2015  1.379999e+08  1.392446e+09  1.254446e+09      6  \n",
       "1          2015  1.379999e+08  3.481613e+08  2.101614e+08      5  \n",
       "2          2015  1.012000e+08  2.716190e+08  1.704191e+08      3  "
      ]
     },
     "execution_count": 113,
     "metadata": {},
     "output_type": "execute_result"
    }
   ],
   "source": [
    "# Create new dataframe by filter to movies that made profit of more than 100Million dollars \n",
    "high_revenue_movie = movie_df[movie_df['profit'] >= 100000000]\n",
    "\n",
    "high_revenue_movie.head(3)"
   ]
  },
  {
   "cell_type": "code",
   "execution_count": 114,
   "metadata": {},
   "outputs": [
    {
     "data": {
      "text/html": [
       "<div>\n",
       "<style scoped>\n",
       "    .dataframe tbody tr th:only-of-type {\n",
       "        vertical-align: middle;\n",
       "    }\n",
       "\n",
       "    .dataframe tbody tr th {\n",
       "        vertical-align: top;\n",
       "    }\n",
       "\n",
       "    .dataframe thead th {\n",
       "        text-align: right;\n",
       "    }\n",
       "</style>\n",
       "<table border=\"1\" class=\"dataframe\">\n",
       "  <thead>\n",
       "    <tr style=\"text-align: right;\">\n",
       "      <th></th>\n",
       "      <th>runtime</th>\n",
       "      <th>release_year</th>\n",
       "      <th>budget_adj</th>\n",
       "      <th>revenue_adj</th>\n",
       "      <th>profit</th>\n",
       "      <th>month</th>\n",
       "    </tr>\n",
       "  </thead>\n",
       "  <tbody>\n",
       "    <tr>\n",
       "      <th>count</th>\n",
       "      <td>1089.000000</td>\n",
       "      <td>1089.000000</td>\n",
       "      <td>1.089000e+03</td>\n",
       "      <td>1.089000e+03</td>\n",
       "      <td>1.089000e+03</td>\n",
       "      <td>1089.000000</td>\n",
       "    </tr>\n",
       "    <tr>\n",
       "      <th>mean</th>\n",
       "      <td>115.955923</td>\n",
       "      <td>1998.367309</td>\n",
       "      <td>7.353762e+07</td>\n",
       "      <td>3.715738e+08</td>\n",
       "      <td>3.005429e+08</td>\n",
       "      <td>7.463728</td>\n",
       "    </tr>\n",
       "    <tr>\n",
       "      <th>std</th>\n",
       "      <td>28.492322</td>\n",
       "      <td>13.089591</td>\n",
       "      <td>5.536918e+07</td>\n",
       "      <td>2.909409e+08</td>\n",
       "      <td>2.682571e+08</td>\n",
       "      <td>3.256613</td>\n",
       "    </tr>\n",
       "    <tr>\n",
       "      <th>min</th>\n",
       "      <td>44.000000</td>\n",
       "      <td>1960.000000</td>\n",
       "      <td>2.248029e+02</td>\n",
       "      <td>1.000516e+08</td>\n",
       "      <td>1.000516e+08</td>\n",
       "      <td>1.000000</td>\n",
       "    </tr>\n",
       "    <tr>\n",
       "      <th>25%</th>\n",
       "      <td>99.000000</td>\n",
       "      <td>1991.000000</td>\n",
       "      <td>3.389464e+07</td>\n",
       "      <td>1.903475e+08</td>\n",
       "      <td>1.381282e+08</td>\n",
       "      <td>5.000000</td>\n",
       "    </tr>\n",
       "    <tr>\n",
       "      <th>50%</th>\n",
       "      <td>113.000000</td>\n",
       "      <td>2001.000000</td>\n",
       "      <td>5.793440e+07</td>\n",
       "      <td>2.746954e+08</td>\n",
       "      <td>2.073424e+08</td>\n",
       "      <td>7.000000</td>\n",
       "    </tr>\n",
       "    <tr>\n",
       "      <th>75%</th>\n",
       "      <td>127.000000</td>\n",
       "      <td>2009.000000</td>\n",
       "      <td>1.047242e+08</td>\n",
       "      <td>4.460595e+08</td>\n",
       "      <td>3.616719e+08</td>\n",
       "      <td>11.000000</td>\n",
       "    </tr>\n",
       "    <tr>\n",
       "      <th>max</th>\n",
       "      <td>705.000000</td>\n",
       "      <td>2015.000000</td>\n",
       "      <td>3.683713e+08</td>\n",
       "      <td>2.827124e+09</td>\n",
       "      <td>2.750137e+09</td>\n",
       "      <td>12.000000</td>\n",
       "    </tr>\n",
       "  </tbody>\n",
       "</table>\n",
       "</div>"
      ],
      "text/plain": [
       "           runtime  release_year    budget_adj   revenue_adj        profit  \\\n",
       "count  1089.000000   1089.000000  1.089000e+03  1.089000e+03  1.089000e+03   \n",
       "mean    115.955923   1998.367309  7.353762e+07  3.715738e+08  3.005429e+08   \n",
       "std      28.492322     13.089591  5.536918e+07  2.909409e+08  2.682571e+08   \n",
       "min      44.000000   1960.000000  2.248029e+02  1.000516e+08  1.000516e+08   \n",
       "25%      99.000000   1991.000000  3.389464e+07  1.903475e+08  1.381282e+08   \n",
       "50%     113.000000   2001.000000  5.793440e+07  2.746954e+08  2.073424e+08   \n",
       "75%     127.000000   2009.000000  1.047242e+08  4.460595e+08  3.616719e+08   \n",
       "max     705.000000   2015.000000  3.683713e+08  2.827124e+09  2.750137e+09   \n",
       "\n",
       "             month  \n",
       "count  1089.000000  \n",
       "mean      7.463728  \n",
       "std       3.256613  \n",
       "min       1.000000  \n",
       "25%       5.000000  \n",
       "50%       7.000000  \n",
       "75%      11.000000  \n",
       "max      12.000000  "
      ]
     },
     "execution_count": 114,
     "metadata": {},
     "output_type": "execute_result"
    }
   ],
   "source": [
    "high_revenue_movie.describe()"
   ]
  },
  {
   "cell_type": "markdown",
   "metadata": {},
   "source": [
    "> From 10,865 movies, we are now down with only 1,089 movies which have profit of at least 100 Million dollars. The highest earning movie is 2.75 Billion dollars and from our previous analysis we know that the movie is Star Wars."
   ]
  },
  {
   "cell_type": "markdown",
   "metadata": {},
   "source": [
    "#### High revenue movie average runtime?"
   ]
  },
  {
   "cell_type": "code",
   "execution_count": 115,
   "metadata": {},
   "outputs": [
    {
     "data": {
      "text/plain": [
       "115.95592286501378"
      ]
     },
     "execution_count": 115,
     "metadata": {},
     "output_type": "execute_result"
    }
   ],
   "source": [
    "# Return the average runtime of the movies\n",
    "high_revenue_movie['runtime'].mean()"
   ]
  },
  {
   "cell_type": "markdown",
   "metadata": {},
   "source": [
    ">Based on the above, the average runtime for high revenue movies is 115 minutes. Let's use visualization to see the distribution of the runtime."
   ]
  },
  {
   "cell_type": "code",
   "execution_count": 116,
   "metadata": {},
   "outputs": [
    {
     "data": {
      "image/png": "[encoded data removed]",
      "text/plain": [
       "<Figure size 1000x500 with 1 Axes>"
      ]
     },
     "metadata": {},
     "output_type": "display_data"
    }
   ],
   "source": [
    "# Create histogram to see the distribution of the runtime \n",
    "plt.figure(figsize=(10,5), dpi = 100)\n",
    "\n",
    "# x-axis \n",
    "plt.xlabel('Movie Runtime', fontsize = 15)\n",
    "# y-axis \n",
    "plt.ylabel('No. of Movies', fontsize=15)\n",
    "# Name of the graph\n",
    "plt.title('Movie Runtime Distribution', fontsize=15)\n",
    "\n",
    "# Plot the histogram\n",
    "plt.hist(high_revenue_movie['runtime'], rwidth = 0.9, bins =35)\n",
    "# Displays the plot\n",
    "plt.show()"
   ]
  },
  {
   "cell_type": "markdown",
   "metadata": {},
   "source": [
    ">We can see from the above that most of the movies have a runtime of 80 - 140 minutes and the highest is around 100 - 120 minutes."
   ]
  },
  {
   "cell_type": "markdown",
   "metadata": {},
   "source": [
    "#### High profit movies average budget?"
   ]
  },
  {
   "cell_type": "code",
   "execution_count": 117,
   "metadata": {},
   "outputs": [
    {
     "data": {
      "text/plain": [
       "73537621.57359695"
      ]
     },
     "execution_count": 117,
     "metadata": {},
     "output_type": "execute_result"
    }
   ],
   "source": [
    "# Return the average runtime of the movies\n",
    "high_revenue_movie['budget_adj'].mean()"
   ]
  },
  {
   "cell_type": "markdown",
   "metadata": {},
   "source": [
    ">Based on the above, the average budget for high revenue movies is around 74 Million dollars ($73,537,622)."
   ]
  },
  {
   "cell_type": "markdown",
   "metadata": {},
   "source": [
    "#### High profit movies average revenue?"
   ]
  },
  {
   "cell_type": "code",
   "execution_count": 118,
   "metadata": {},
   "outputs": [
    {
     "data": {
      "text/plain": [
       "371573840.3492238"
      ]
     },
     "execution_count": 118,
     "metadata": {},
     "output_type": "execute_result"
    }
   ],
   "source": [
    "# Return the average runtime of the movies\n",
    "high_revenue_movie['revenue_adj'].mean()"
   ]
  },
  {
   "cell_type": "markdown",
   "metadata": {},
   "source": [
    ">Based on the above, the average revenue for high revenue movies is around 371 Million dollars. ($371,573,840)."
   ]
  },
  {
   "cell_type": "markdown",
   "metadata": {},
   "source": [
    "#### In which month the movies makes the most profit?"
   ]
  },
  {
   "cell_type": "code",
   "execution_count": 119,
   "metadata": {},
   "outputs": [
    {
     "data": {
      "text/plain": [
       "month\n",
       "1      27\n",
       "2      52\n",
       "3      72\n",
       "4      52\n",
       "5     118\n",
       "6     159\n",
       "7     112\n",
       "8      62\n",
       "9      64\n",
       "10     84\n",
       "11    111\n",
       "12    176\n",
       "Name: original_title, dtype: int64"
      ]
     },
     "execution_count": 119,
     "metadata": {},
     "output_type": "execute_result"
    }
   ],
   "source": [
    "# Group by year and count of the movies each month.\n",
    "high_revenue_movie_per_month = high_revenue_movie.groupby('month')['original_title'].count()\n",
    "high_revenue_movie_per_month"
   ]
  },
  {
   "cell_type": "code",
   "execution_count": 120,
   "metadata": {},
   "outputs": [
    {
     "data": {
      "text/plain": [
       "12"
      ]
     },
     "execution_count": 120,
     "metadata": {},
     "output_type": "execute_result"
    }
   ],
   "source": [
    "# To get the month with the highest movie release\n",
    "high_revenue_movie_per_month.idxmax()"
   ]
  },
  {
   "cell_type": "markdown",
   "metadata": {},
   "source": [
    "> The month with the highest movie release is December."
   ]
  },
  {
   "cell_type": "code",
   "execution_count": 121,
   "metadata": {},
   "outputs": [
    {
     "data": {
      "image/png": "[encoded data removed]",
      "text/plain": [
       "<Figure size 1080x576 with 1 Axes>"
      ]
     },
     "metadata": {},
     "output_type": "display_data"
    }
   ],
   "source": [
    "# Create a bar chart\n",
    "sns.set_style('darkgrid')\n",
    "month_name = ['Jan', 'Feb', 'Mar', 'Apr', 'May', 'Jun', 'Jul', 'Aug', 'Sep', 'Oct', 'Nov', 'Dec']\n",
    "plt.figure(figsize=(15,8))\n",
    "plt.bar([1,2,3,4,5,6,7,8,9,10,11,12], high_revenue_movie_per_month, tick_label = month_name)\n",
    "plt.title('Month Released by month')\n",
    "plt.ylabel('No. of movies')\n",
    "plt.xlabel('Month');"
   ]
  },
  {
   "cell_type": "markdown",
   "metadata": {},
   "source": [
    ">From the above analysis, we can see that Dec (> 175 movies) is the most popular month follow by June (> 150 movies) and May (> 100 movies) for movies release that makes the most profit."
   ]
  },
  {
   "cell_type": "markdown",
   "metadata": {},
   "source": [
    "#### In which year the movies makes the most profit?"
   ]
  },
  {
   "cell_type": "code",
   "execution_count": 122,
   "metadata": {},
   "outputs": [
    {
     "data": {
      "text/plain": [
       "release_year\n",
       "1960    3\n",
       "1961    3\n",
       "1962    3\n",
       "1963    2\n",
       "1964    3\n",
       "Name: original_title, dtype: int64"
      ]
     },
     "execution_count": 122,
     "metadata": {},
     "output_type": "execute_result"
    }
   ],
   "source": [
    "# Group by year and count of the movies each year.\n",
    "high_revenue_movie_per_year = high_revenue_movie.groupby('release_year')['original_title'].count()\n",
    "high_revenue_movie_per_year.head()"
   ]
  },
  {
   "cell_type": "code",
   "execution_count": 123,
   "metadata": {},
   "outputs": [
    {
     "data": {
      "text/plain": [
       "2014"
      ]
     },
     "execution_count": 123,
     "metadata": {},
     "output_type": "execute_result"
    }
   ],
   "source": [
    "# To get the year with the most movie release\n",
    "high_revenue_movie_per_year.idxmax()"
   ]
  },
  {
   "cell_type": "markdown",
   "metadata": {},
   "source": [
    ">Based on the above, we can see that the movies makes the most profit in year 2014."
   ]
  },
  {
   "cell_type": "markdown",
   "metadata": {},
   "source": [
    "#### High profit movie casts?"
   ]
  },
  {
   "cell_type": "code",
   "execution_count": 124,
   "metadata": {},
   "outputs": [],
   "source": [
    "def extract_high_revenue_data(column_name):\n",
    "\n",
    "    data = high_revenue_movie[column_name].str.cat(sep = '|')\n",
    "    \n",
    "    # Create pandas series and store the values separately\n",
    "    data = pd.Series(data.split('|'))\n",
    "    \n",
    "    # Display value count in descending order\n",
    "    count = data.value_counts(ascending = False)\n",
    "    \n",
    "    return count"
   ]
  },
  {
   "cell_type": "code",
   "execution_count": 125,
   "metadata": {},
   "outputs": [
    {
     "data": {
      "text/plain": [
       "Tom Cruise               27\n",
       "Tom Hanks                22\n",
       "Brad Pitt                18\n",
       "Sylvester Stallone       18\n",
       "Eddie Murphy             17\n",
       "Harrison Ford            17\n",
       "Cameron Diaz             17\n",
       "Adam Sandler             17\n",
       "Bruce Willis             16\n",
       "Robert De Niro           16\n",
       "Jim Carrey               16\n",
       "Will Smith               15\n",
       "Arnold Schwarzenegger    15\n",
       "Robin Williams           15\n",
       "Mel Gibson               14\n",
       "Sean Connery             14\n",
       "Julia Roberts            14\n",
       "Clint Eastwood           14\n",
       "Dustin Hoffman           14\n",
       "Samuel L. Jackson        14\n",
       "dtype: int64"
      ]
     },
     "execution_count": 125,
     "metadata": {},
     "output_type": "execute_result"
    }
   ],
   "source": [
    "# Get top 20 casts\n",
    "cast = extract_high_revenue_data('cast')\n",
    "cast.head(20)"
   ]
  },
  {
   "cell_type": "markdown",
   "metadata": {},
   "source": [
    "> The top two male actors with more than 20 movies are Tom Cruise (27 movies) and Tom Hanks (22 movies). As for female actress are Cameron Diaz (17 movies) and Julia Roberts (14 movies). Seems like there are more high revenue movies actors than actress as out of the 20 cast from the above list there are only 2 female."
   ]
  },
  {
   "cell_type": "markdown",
   "metadata": {},
   "source": [
    "#### High profit movie directors?"
   ]
  },
  {
   "cell_type": "code",
   "execution_count": 126,
   "metadata": {},
   "outputs": [
    {
     "data": {
      "text/plain": [
       "Steven Spielberg    22\n",
       "Robert Zemeckis     12\n",
       "Ron Howard          11\n",
       "Clint Eastwood       9\n",
       "Tim Burton           8\n",
       "Ridley Scott         8\n",
       "Michael Bay          8\n",
       "Gore Verbinski       7\n",
       "Roland Emmerich      7\n",
       "Ivan Reitman         7\n",
       "dtype: int64"
      ]
     },
     "execution_count": 126,
     "metadata": {},
     "output_type": "execute_result"
    }
   ],
   "source": [
    "# Get top 10 directors\n",
    "director = extract_high_revenue_data('director')\n",
    "director.head(10)"
   ]
  },
  {
   "cell_type": "markdown",
   "metadata": {},
   "source": [
    "> Steven Spielberg (22 movies) is the top director that makes the most movies for the 55 years between 1960 to 2015 with high profit. Surprisingly Woody Allen is not in the top 20 list when he had directed 46 movies."
   ]
  },
  {
   "cell_type": "markdown",
   "metadata": {},
   "source": [
    "#### High profit production companies?"
   ]
  },
  {
   "cell_type": "code",
   "execution_count": 127,
   "metadata": {},
   "outputs": [
    {
     "data": {
      "text/plain": [
       "Universal Pictures                        135\n",
       "Warner Bros.                              133\n",
       "Paramount Pictures                        127\n",
       "Twentieth Century Fox Film Corporation    108\n",
       "Columbia Pictures                          65\n",
       "Walt Disney Pictures                       62\n",
       "New Line Cinema                            45\n",
       "Columbia Pictures Corporation              44\n",
       "Touchstone Pictures                        42\n",
       "Metro-Goldwyn-Mayer (MGM)                  38\n",
       "dtype: int64"
      ]
     },
     "execution_count": 127,
     "metadata": {},
     "output_type": "execute_result"
    }
   ],
   "source": [
    "# Get top 10 production companies\n",
    "production_companies = extract_high_revenue_data('production_companies')\n",
    "production_companies.head(10)"
   ]
  },
  {
   "cell_type": "markdown",
   "metadata": {},
   "source": [
    ">The top production is Universal Pictures (522 movies), Warner Bros (509 movies) and Paramount Picture (431 movies). Amazing that the top three production companies produces more than 400 movies for the 55 years between 1960 to 2015 and they are also the ones that top the production companies with most movies list."
   ]
  },
  {
   "cell_type": "markdown",
   "metadata": {},
   "source": [
    "#### High profit movie genre?"
   ]
  },
  {
   "cell_type": "code",
   "execution_count": 128,
   "metadata": {
    "scrolled": true
   },
   "outputs": [
    {
     "data": {
      "text/plain": [
       "Comedy             402\n",
       "Drama              395\n",
       "Action             394\n",
       "Adventure          337\n",
       "Thriller           310\n",
       "Family             194\n",
       "Romance            178\n",
       "Science Fiction    178\n",
       "Crime              166\n",
       "Fantasy            165\n",
       "dtype: int64"
      ]
     },
     "execution_count": 128,
     "metadata": {},
     "output_type": "execute_result"
    }
   ],
   "source": [
    "# Get top 10 genres\n",
    "director = extract_high_revenue_data('genres')\n",
    "director.head(10)"
   ]
  },
  {
   "cell_type": "markdown",
   "metadata": {},
   "source": [
    "> Surprisingly, there is a swap from this high profit movies listing with the most movie listing. The genre Comedy (402 movies) have move up to be the top instead of Drama (395 movies)."
   ]
  },
  {
   "cell_type": "markdown",
   "metadata": {},
   "source": [
    "#### High profit movie keywords?"
   ]
  },
  {
   "cell_type": "code",
   "execution_count": 129,
   "metadata": {},
   "outputs": [
    {
     "data": {
      "text/plain": [
       "based on novel          56\n",
       "dystopia                33\n",
       "duringcreditsstinger    31\n",
       "london                  30\n",
       "saving the world        27\n",
       "dtype: int64"
      ]
     },
     "execution_count": 129,
     "metadata": {},
     "output_type": "execute_result"
    }
   ],
   "source": [
    "keywords = extract_high_revenue_data('keywords')\n",
    "keywords.head()"
   ]
  },
  {
   "cell_type": "markdown",
   "metadata": {},
   "source": [
    ">Interestingly, we have a totally different result from the previous common keywords. The top movie keywords with high profit goes to 'based on novel' followed by 'dystopia', 'duringcreditsstinger' and 'london' which I did a search on what they meant.\n",
    "<br/><br/>\n",
    "dystopia: an imagined place or state in which everything is unpleasant or bad, typically a totalitarian or environmentally degraded one.\n",
    "<br/><br/>\n",
    "duringcreditsstinger: A post-credits scene is a short clip that appears after all or some of the closing credits have rolled and sometimes after a production logo of a film, TV series or video game have run. It is usually included for humour or to set up a possible sequel."
   ]
  },
  {
   "cell_type": "markdown",
   "metadata": {},
   "source": [
    "<a id='conclusions'></a>\n",
    "## Conclusions\n",
    "\n",
    ">My goal of this data analysis is to answer the 2 main questions  - (1)  properties and attributes of the movies from year 1960 to 2015? (2) kind of properties that are associated with movies with a high profit of at least 100 Million dollars? After the above analysis, I can conclude the following:\n",
    "<br/><br/>\n",
    ">** Properties and attributes of the movies from year 1960 to 2015: **\n",
    "- Average runtime of the movie 102 minutes\n",
    "- Month with the most movies released: September\n",
    "- Year with the most movies released: 2014\n",
    "- Year that makes the most profit: 2015\n",
    "- Cast starred in the most movies: Robert De Niro, Samuel L. Jackson, Bruce Willis\n",
    "- Director with the most movies: Woody Allen, Clint Eastwood, Martin Scorsese\n",
    "- Popular production companies: Universal Pictures, Warner Bros., Paramount Pictures\n",
    "- Most popular genre: Drama, Comedy, Thriller\n",
    "- Most common keywords: woman director, independent film, based on novel\n",
    "\n",
    "\n",
    ">** For a movie to have a profit of at least 100 Million Dollars: **\n",
    "- Average Budget must be around 74 Million Dollars\n",
    "- Average runtime of the movie must be 115 minutes\n",
    "- Month to release the movie: December or June\n",
    "- Actors to cast: Tom Cruise, Tom Hanks, Brad Pitt, Sylvester Stallone,\n",
    "- Actress to cast:  Cameron Diaz, Julia Roberts\n",
    "- Any one of these should be the director:  Steven Spielberg, Robert Zemeckis, Ron Howard\n",
    "- Produce by any of these production companies: Universal Pictures, Warner Bros., Paramount Pictures\n",
    "- Genre must any of these: Comedy, Drama, Action\n",
    "- Movie plot should be based on novel, related to dystopia and london with post-credits scene\n",
    "<br/><br/>\n",
    ">By meeting the above criteria, the movie will have a higher probability to be a hit and earn an average revenue of around 371 million dollar and profit of at least 100 million dollars.\n",
    "<br/><br/>\n",
    "But do note that the above analysis was done on the movies from 1960 to 2015 and with a profit of at least 100 million dollar. Also considering that there is a huge number of missing data and noticed that some of the error values for the movies (e.g. $1 for some of the movies)."
   ]
  }
 ],
 "metadata": {
  "kernelspec": {
   "display_name": "Python 3",
   "language": "python",
   "name": "python3"
  },
  "language_info": {
   "codemirror_mode": {
    "name": "ipython",
    "version": 3
   },
   "file_extension": ".py",
   "mimetype": "text/x-python",
   "name": "python",
   "nbconvert_exporter": "python",
   "pygments_lexer": "ipython3",
   "version": "3.6.5"
  }
 },
 "nbformat": 4,
 "nbformat_minor": 2
}
