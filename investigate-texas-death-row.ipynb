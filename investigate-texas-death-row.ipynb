{
 "cells": [
  {
   "cell_type": "markdown",
   "metadata": {},
   "source": [
    "# Investigate Texas Death Row Dataset\n",
    "\n",
    "## Table of Contents\n",
    "<ul>\n",
    "<li><a href=\"#intro\">Introduction</a></li>\n",
    "<li><a href=\"#wrangling\">Data Wrangling</a></li>\n",
    "<li><a href=\"#eda\">Exploratory Data Analysis</a></li>\n",
    "<li><a href=\"#conclusions\">Conclusions</a></li>\n",
    "</ul>"
   ]
  },
  {
   "cell_type": "markdown",
   "metadata": {},
   "source": [
    "<a id='intro'></a>\n",
    "## Introduction\n",
    "\n",
    "> The dataset documents 553 Texas death row inmates executed from 1976, when the Supreme Court reinstated the death penalty, to the present. Originally from the Texas Department of Criminal Justice website was cleaned and provided by selectstarsql https://selectstarsql.com."
   ]
  },
  {
   "cell_type": "code",
   "execution_count": 1,
   "metadata": {},
   "outputs": [],
   "source": [
    "# import statements for all of the packages that I plan to use. \n",
    "\n",
    "import pandas as pd\n",
    "import numpy as np\n",
    "import seaborn as sns\n",
    "import matplotlib.pyplot as plt\n",
    "% matplotlib inline"
   ]
  },
  {
   "cell_type": "markdown",
   "metadata": {},
   "source": [
    "<a id='wrangling'></a>\n",
    "## Data Wrangling\n",
    "\n",
    "> In this section of the report, I will load in the data, check for cleanliness, and then trim and clean the dataset for analysis. \n",
    "\n",
    "### General Properties\n",
    "Below are the questions to answer using pandas to explore ```tx_deathrow_full.csv``` and have a holistic understanding of the data set:\n",
    "\n",
    "- Number of samples & columns in the dataset\n",
    "- Duplicate rows in the dataset\n",
    "- Datatypes of the columns\n",
    "- Features with missing values\n",
    "- Number of unique values for the dataset\n",
    "- Number of rows with missing values in the dataset\n",
    "- Descriptive statistics for the dataset"
   ]
  },
  {
   "cell_type": "code",
   "execution_count": 2,
   "metadata": {},
   "outputs": [
    {
     "data": {
      "text/html": [
       "<div>\n",
       "<style scoped>\n",
       "    .dataframe tbody tr th:only-of-type {\n",
       "        vertical-align: middle;\n",
       "    }\n",
       "\n",
       "    .dataframe tbody tr th {\n",
       "        vertical-align: top;\n",
       "    }\n",
       "\n",
       "    .dataframe thead th {\n",
       "        text-align: right;\n",
       "    }\n",
       "</style>\n",
       "<table border=\"1\" class=\"dataframe\">\n",
       "  <thead>\n",
       "    <tr style=\"text-align: right;\">\n",
       "      <th></th>\n",
       "      <th>Execution</th>\n",
       "      <th>Date of Birth</th>\n",
       "      <th>Date of Offence</th>\n",
       "      <th>Highest Education Level</th>\n",
       "      <th>Last Name</th>\n",
       "      <th>First Name</th>\n",
       "      <th>TDCJ\n",
       "Number</th>\n",
       "      <th>Age at Execution</th>\n",
       "      <th>Date Received</th>\n",
       "      <th>Execution Date</th>\n",
       "      <th>Race</th>\n",
       "      <th>County</th>\n",
       "      <th>Eye Color</th>\n",
       "      <th>Weight</th>\n",
       "      <th>Height</th>\n",
       "      <th>Native County</th>\n",
       "      <th>Native State</th>\n",
       "      <th>Last Statement</th>\n",
       "    </tr>\n",
       "  </thead>\n",
       "  <tbody>\n",
       "    <tr>\n",
       "      <th>0</th>\n",
       "      <td>553</td>\n",
       "      <td>1983-09-24</td>\n",
       "      <td>2004-11-21</td>\n",
       "      <td>9.0</td>\n",
       "      <td>Young</td>\n",
       "      <td>Christopher Anthony</td>\n",
       "      <td>999508</td>\n",
       "      <td>34</td>\n",
       "      <td>2006-03-31</td>\n",
       "      <td>2018-07-17</td>\n",
       "      <td>Black</td>\n",
       "      <td>Bexar</td>\n",
       "      <td>Brown</td>\n",
       "      <td>216.0</td>\n",
       "      <td>6' 1\"</td>\n",
       "      <td>Bexar</td>\n",
       "      <td>Texas</td>\n",
       "      <td>l want to make sure the Patel family knows I l...</td>\n",
       "    </tr>\n",
       "    <tr>\n",
       "      <th>1</th>\n",
       "      <td>552</td>\n",
       "      <td>1951-08-28</td>\n",
       "      <td>1979-05-27</td>\n",
       "      <td>12.0</td>\n",
       "      <td>Bible</td>\n",
       "      <td>Danny Paul</td>\n",
       "      <td>999455</td>\n",
       "      <td>66</td>\n",
       "      <td>2003-07-17</td>\n",
       "      <td>2018-06-27</td>\n",
       "      <td>White</td>\n",
       "      <td>Harris</td>\n",
       "      <td>Blue</td>\n",
       "      <td>194.0</td>\n",
       "      <td>5' 7\"</td>\n",
       "      <td>Brazoria</td>\n",
       "      <td>Texas</td>\n",
       "      <td>NaN</td>\n",
       "    </tr>\n",
       "    <tr>\n",
       "      <th>2</th>\n",
       "      <td>551</td>\n",
       "      <td>1981-04-03</td>\n",
       "      <td>2003-12-03</td>\n",
       "      <td>10.0</td>\n",
       "      <td>Castillo</td>\n",
       "      <td>Juan Edward</td>\n",
       "      <td>999502</td>\n",
       "      <td>37</td>\n",
       "      <td>2005-09-27</td>\n",
       "      <td>2018-05-16</td>\n",
       "      <td>Hispanic</td>\n",
       "      <td>Bexar</td>\n",
       "      <td>Brown</td>\n",
       "      <td>180.0</td>\n",
       "      <td>5' 11\"</td>\n",
       "      <td>Bexar</td>\n",
       "      <td>Texas</td>\n",
       "      <td>To everyone that has been there for me you kno...</td>\n",
       "    </tr>\n",
       "  </tbody>\n",
       "</table>\n",
       "</div>"
      ],
      "text/plain": [
       "   Execution Date of Birth Date of Offence  Highest Education Level Last Name  \\\n",
       "0        553    1983-09-24      2004-11-21                      9.0     Young   \n",
       "1        552    1951-08-28      1979-05-27                     12.0     Bible   \n",
       "2        551    1981-04-03      2003-12-03                     10.0  Castillo   \n",
       "\n",
       "            First Name  TDCJ\\nNumber  Age at Execution Date Received  \\\n",
       "0  Christopher Anthony        999508                34    2006-03-31   \n",
       "1           Danny Paul        999455                66    2003-07-17   \n",
       "2          Juan Edward        999502                37    2005-09-27   \n",
       "\n",
       "  Execution Date      Race  County Eye Color  Weight  Height Native County  \\\n",
       "0     2018-07-17     Black   Bexar     Brown   216.0   6' 1\"         Bexar   \n",
       "1     2018-06-27     White  Harris      Blue   194.0   5' 7\"      Brazoria   \n",
       "2     2018-05-16  Hispanic   Bexar     Brown   180.0  5' 11\"         Bexar   \n",
       "\n",
       "  Native State                                     Last Statement  \n",
       "0        Texas  l want to make sure the Patel family knows I l...  \n",
       "1        Texas                                                NaN  \n",
       "2        Texas  To everyone that has been there for me you kno...  "
      ]
     },
     "execution_count": 2,
     "metadata": {},
     "output_type": "execute_result"
    }
   ],
   "source": [
    "# Load the data and print out a few lines. Perform operations to inspect data\n",
    "#   types and look for instances of missing or possibly errant data.\n",
    "executions_df = pd.read_csv('tx_deathrow_full.csv')\n",
    "executions_df.head(3)"
   ]
  },
  {
   "cell_type": "markdown",
   "metadata": {},
   "source": [
    "#### Number of samples & columns in the dataset\n",
    "Based on the result shown below, there are a total of 533 executions and 18 columns in the dataset."
   ]
  },
  {
   "cell_type": "code",
   "execution_count": 3,
   "metadata": {},
   "outputs": [
    {
     "data": {
      "text/plain": [
       "(553, 18)"
      ]
     },
     "execution_count": 3,
     "metadata": {},
     "output_type": "execute_result"
    }
   ],
   "source": [
    "# To check the size of the dataset\n",
    "executions_df.shape"
   ]
  },
  {
   "cell_type": "markdown",
   "metadata": {},
   "source": [
    "#### Duplicate rows in the dataset\n",
    "Based on the result shown below, there are no duplicated row."
   ]
  },
  {
   "cell_type": "code",
   "execution_count": 4,
   "metadata": {},
   "outputs": [
    {
     "data": {
      "text/plain": [
       "0"
      ]
     },
     "execution_count": 4,
     "metadata": {},
     "output_type": "execute_result"
    }
   ],
   "source": [
    "# To get the total number of duplicated rows in the dataset \n",
    "executions_df.duplicated().sum()"
   ]
  },
  {
   "cell_type": "markdown",
   "metadata": {},
   "source": [
    "#### Datatype of column in the dataset\n",
    "```info``` is use to find the basic information like datatype of column in the dataset. Noticed that a number of columns name and columns not using the correct datatype and I will work on it in the next section."
   ]
  },
  {
   "cell_type": "code",
   "execution_count": 5,
   "metadata": {},
   "outputs": [
    {
     "name": "stdout",
     "output_type": "stream",
     "text": [
      "<class 'pandas.core.frame.DataFrame'>\n",
      "RangeIndex: 553 entries, 0 to 552\n",
      "Data columns (total 18 columns):\n",
      "Execution                  553 non-null int64\n",
      "Date of Birth              539 non-null object\n",
      "Date of Offence            536 non-null object\n",
      "Highest Education Level    505 non-null float64\n",
      "Last Name                  553 non-null object\n",
      "First Name                 553 non-null object\n",
      "TDCJ\n",
      "Number                553 non-null int64\n",
      "Age at Execution           553 non-null int64\n",
      "Date Received              539 non-null object\n",
      "Execution Date             553 non-null object\n",
      "Race                       553 non-null object\n",
      "County                     553 non-null object\n",
      "Eye Color                  518 non-null object\n",
      "Weight                     511 non-null float64\n",
      "Height                     513 non-null object\n",
      "Native County              510 non-null object\n",
      "Native State               524 non-null object\n",
      "Last Statement             443 non-null object\n",
      "dtypes: float64(2), int64(3), object(13)\n",
      "memory usage: 77.8+ KB\n"
     ]
    }
   ],
   "source": [
    "executions_df.info()"
   ]
  },
  {
   "cell_type": "markdown",
   "metadata": {},
   "source": [
    "#### Features with missing values in the dataset\n",
    "There are a number of null values in the dataset for these columns: ```Date of Birth```, ```Date of Offence```, ```Highest Education Level```, ```Date Received```, ```Eye Color```, ```Weight```, ```Height```, ```Native County```, ```Native State``` and ```Last Statement```."
   ]
  },
  {
   "cell_type": "code",
   "execution_count": 6,
   "metadata": {},
   "outputs": [
    {
     "data": {
      "text/plain": [
       "Execution                    0\n",
       "Date of Birth               14\n",
       "Date of Offence             17\n",
       "Highest Education Level     48\n",
       "Last Name                    0\n",
       "First Name                   0\n",
       "TDCJ\\nNumber                 0\n",
       "Age at Execution             0\n",
       "Date Received               14\n",
       "Execution Date               0\n",
       "Race                         0\n",
       "County                       0\n",
       "Eye Color                   35\n",
       "Weight                      42\n",
       "Height                      40\n",
       "Native County               43\n",
       "Native State                29\n",
       "Last Statement             110\n",
       "dtype: int64"
      ]
     },
     "execution_count": 6,
     "metadata": {},
     "output_type": "execute_result"
    }
   ],
   "source": [
    "executions_df.isnull().sum()"
   ]
  },
  {
   "cell_type": "markdown",
   "metadata": {},
   "source": [
    "#### Number of unique values for the dataset\n",
    "To see the total number of unique values for each column."
   ]
  },
  {
   "cell_type": "code",
   "execution_count": 7,
   "metadata": {},
   "outputs": [
    {
     "data": {
      "text/plain": [
       "Execution                  553\n",
       "Date of Birth              526\n",
       "Date of Offence            507\n",
       "Highest Education Level     17\n",
       "Last Name                  450\n",
       "First Name                 271\n",
       "TDCJ\\nNumber               553\n",
       "Age at Execution            42\n",
       "Date Received              513\n",
       "Execution Date             550\n",
       "Race                         5\n",
       "County                      92\n",
       "Eye Color                    8\n",
       "Weight                     131\n",
       "Height                      17\n",
       "Native County              218\n",
       "Native State                51\n",
       "Last Statement             443\n",
       "dtype: int64"
      ]
     },
     "execution_count": 7,
     "metadata": {},
     "output_type": "execute_result"
    }
   ],
   "source": [
    "executions_df.nunique()"
   ]
  },
  {
   "cell_type": "markdown",
   "metadata": {},
   "source": [
    "#### Number of rows with missing values in the dataset\n",
    "To check the total number of rows with at least one column with missing values. "
   ]
  },
  {
   "cell_type": "code",
   "execution_count": 8,
   "metadata": {},
   "outputs": [
    {
     "data": {
      "text/plain": [
       "165"
      ]
     },
     "execution_count": 8,
     "metadata": {},
     "output_type": "execute_result"
    }
   ],
   "source": [
    "executions_df.isnull().any(axis=1).sum()"
   ]
  },
  {
   "cell_type": "markdown",
   "metadata": {},
   "source": [
    "#### Descriptive statistics for the dataset\n",
    "Based on the table shown below, we can observed that the youngest execution is at the age of 24 and olderest is at 67. The Highest education level is 20 and lowest is 3."
   ]
  },
  {
   "cell_type": "code",
   "execution_count": 9,
   "metadata": {},
   "outputs": [
    {
     "data": {
      "text/html": [
       "<div>\n",
       "<style scoped>\n",
       "    .dataframe tbody tr th:only-of-type {\n",
       "        vertical-align: middle;\n",
       "    }\n",
       "\n",
       "    .dataframe tbody tr th {\n",
       "        vertical-align: top;\n",
       "    }\n",
       "\n",
       "    .dataframe thead th {\n",
       "        text-align: right;\n",
       "    }\n",
       "</style>\n",
       "<table border=\"1\" class=\"dataframe\">\n",
       "  <thead>\n",
       "    <tr style=\"text-align: right;\">\n",
       "      <th></th>\n",
       "      <th>Execution</th>\n",
       "      <th>Highest Education Level</th>\n",
       "      <th>TDCJ\n",
       "Number</th>\n",
       "      <th>Age at Execution</th>\n",
       "      <th>Weight</th>\n",
       "    </tr>\n",
       "  </thead>\n",
       "  <tbody>\n",
       "    <tr>\n",
       "      <th>count</th>\n",
       "      <td>553.000000</td>\n",
       "      <td>505.000000</td>\n",
       "      <td>553.000000</td>\n",
       "      <td>553.000000</td>\n",
       "      <td>511.000000</td>\n",
       "    </tr>\n",
       "    <tr>\n",
       "      <th>mean</th>\n",
       "      <td>277.000000</td>\n",
       "      <td>10.208911</td>\n",
       "      <td>524395.757685</td>\n",
       "      <td>39.470163</td>\n",
       "      <td>175.982387</td>\n",
       "    </tr>\n",
       "    <tr>\n",
       "      <th>std</th>\n",
       "      <td>159.781622</td>\n",
       "      <td>2.095540</td>\n",
       "      <td>499085.607027</td>\n",
       "      <td>8.628164</td>\n",
       "      <td>32.896476</td>\n",
       "    </tr>\n",
       "    <tr>\n",
       "      <th>min</th>\n",
       "      <td>1.000000</td>\n",
       "      <td>3.000000</td>\n",
       "      <td>511.000000</td>\n",
       "      <td>24.000000</td>\n",
       "      <td>104.000000</td>\n",
       "    </tr>\n",
       "    <tr>\n",
       "      <th>25%</th>\n",
       "      <td>139.000000</td>\n",
       "      <td>9.000000</td>\n",
       "      <td>815.000000</td>\n",
       "      <td>33.000000</td>\n",
       "      <td>151.000000</td>\n",
       "    </tr>\n",
       "    <tr>\n",
       "      <th>50%</th>\n",
       "      <td>277.000000</td>\n",
       "      <td>10.000000</td>\n",
       "      <td>999023.000000</td>\n",
       "      <td>38.000000</td>\n",
       "      <td>170.000000</td>\n",
       "    </tr>\n",
       "    <tr>\n",
       "      <th>75%</th>\n",
       "      <td>415.000000</td>\n",
       "      <td>12.000000</td>\n",
       "      <td>999257.000000</td>\n",
       "      <td>44.000000</td>\n",
       "      <td>191.500000</td>\n",
       "    </tr>\n",
       "    <tr>\n",
       "      <th>max</th>\n",
       "      <td>553.000000</td>\n",
       "      <td>20.000000</td>\n",
       "      <td>999555.000000</td>\n",
       "      <td>67.000000</td>\n",
       "      <td>318.000000</td>\n",
       "    </tr>\n",
       "  </tbody>\n",
       "</table>\n",
       "</div>"
      ],
      "text/plain": [
       "        Execution  Highest Education Level   TDCJ\\nNumber  Age at Execution  \\\n",
       "count  553.000000               505.000000     553.000000        553.000000   \n",
       "mean   277.000000                10.208911  524395.757685         39.470163   \n",
       "std    159.781622                 2.095540  499085.607027          8.628164   \n",
       "min      1.000000                 3.000000     511.000000         24.000000   \n",
       "25%    139.000000                 9.000000     815.000000         33.000000   \n",
       "50%    277.000000                10.000000  999023.000000         38.000000   \n",
       "75%    415.000000                12.000000  999257.000000         44.000000   \n",
       "max    553.000000                20.000000  999555.000000         67.000000   \n",
       "\n",
       "           Weight  \n",
       "count  511.000000  \n",
       "mean   175.982387  \n",
       "std     32.896476  \n",
       "min    104.000000  \n",
       "25%    151.000000  \n",
       "50%    170.000000  \n",
       "75%    191.500000  \n",
       "max    318.000000  "
      ]
     },
     "execution_count": 9,
     "metadata": {},
     "output_type": "execute_result"
    }
   ],
   "source": [
    "executions_df.describe()"
   ]
  },
  {
   "cell_type": "markdown",
   "metadata": {},
   "source": [
    "### Data Cleaning\n",
    "After the above discussion on the structure of the dataset and the problems that need to be cleaned, the following are the cleaning steps to be performed:\n",
    "\n",
    "1. Rename Columns\n",
    "2. Drop Extraneous Columns\n",
    "3. Mark zero values with NaN\n",
    "5. Convert columns to correct datatype"
   ]
  },
  {
   "cell_type": "markdown",
   "metadata": {},
   "source": [
    "#### Rename Columns\n",
    "Rename all column labels to replace spaces with underscores and convert everything to lowercase."
   ]
  },
  {
   "cell_type": "code",
   "execution_count": 10,
   "metadata": {},
   "outputs": [
    {
     "data": {
      "text/html": [
       "<div>\n",
       "<style scoped>\n",
       "    .dataframe tbody tr th:only-of-type {\n",
       "        vertical-align: middle;\n",
       "    }\n",
       "\n",
       "    .dataframe tbody tr th {\n",
       "        vertical-align: top;\n",
       "    }\n",
       "\n",
       "    .dataframe thead th {\n",
       "        text-align: right;\n",
       "    }\n",
       "</style>\n",
       "<table border=\"1\" class=\"dataframe\">\n",
       "  <thead>\n",
       "    <tr style=\"text-align: right;\">\n",
       "      <th></th>\n",
       "      <th>execution</th>\n",
       "      <th>date_of_birth</th>\n",
       "      <th>date_of_offence</th>\n",
       "      <th>highest_education_level</th>\n",
       "      <th>last_name</th>\n",
       "      <th>first_name</th>\n",
       "      <th>tdcj\n",
       "number</th>\n",
       "      <th>age_at_execution</th>\n",
       "      <th>date_received</th>\n",
       "      <th>execution_date</th>\n",
       "      <th>race</th>\n",
       "      <th>county</th>\n",
       "      <th>eye_color</th>\n",
       "      <th>weight</th>\n",
       "      <th>height</th>\n",
       "      <th>native_county</th>\n",
       "      <th>native_state</th>\n",
       "      <th>last_statement</th>\n",
       "    </tr>\n",
       "  </thead>\n",
       "  <tbody>\n",
       "    <tr>\n",
       "      <th>0</th>\n",
       "      <td>553</td>\n",
       "      <td>1983-09-24</td>\n",
       "      <td>2004-11-21</td>\n",
       "      <td>9.0</td>\n",
       "      <td>Young</td>\n",
       "      <td>Christopher Anthony</td>\n",
       "      <td>999508</td>\n",
       "      <td>34</td>\n",
       "      <td>2006-03-31</td>\n",
       "      <td>2018-07-17</td>\n",
       "      <td>Black</td>\n",
       "      <td>Bexar</td>\n",
       "      <td>Brown</td>\n",
       "      <td>216.0</td>\n",
       "      <td>6' 1\"</td>\n",
       "      <td>Bexar</td>\n",
       "      <td>Texas</td>\n",
       "      <td>l want to make sure the Patel family knows I l...</td>\n",
       "    </tr>\n",
       "  </tbody>\n",
       "</table>\n",
       "</div>"
      ],
      "text/plain": [
       "   execution date_of_birth date_of_offence  highest_education_level last_name  \\\n",
       "0        553    1983-09-24      2004-11-21                      9.0     Young   \n",
       "\n",
       "            first_name  tdcj\\nnumber  age_at_execution date_received  \\\n",
       "0  Christopher Anthony        999508                34    2006-03-31   \n",
       "\n",
       "  execution_date   race county eye_color  weight height native_county  \\\n",
       "0     2018-07-17  Black  Bexar     Brown   216.0  6' 1\"         Bexar   \n",
       "\n",
       "  native_state                                     last_statement  \n",
       "0        Texas  l want to make sure the Patel family knows I l...  "
      ]
     },
     "execution_count": 10,
     "metadata": {},
     "output_type": "execute_result"
    }
   ],
   "source": [
    "executions_df.rename(columns=lambda x: x.strip().lower().replace(\" \", \"_\"), inplace=True)\n",
    "executions_df.head(1)"
   ]
  },
  {
   "cell_type": "markdown",
   "metadata": {},
   "source": [
    "#### Drop Extraneous Columns\n",
    "- Drop columns that aren't relevant to what we want to explore on. Columns to drop: ```Execution```and ```TDCJ Number```."
   ]
  },
  {
   "cell_type": "code",
   "execution_count": 11,
   "metadata": {},
   "outputs": [
    {
     "data": {
      "text/html": [
       "<div>\n",
       "<style scoped>\n",
       "    .dataframe tbody tr th:only-of-type {\n",
       "        vertical-align: middle;\n",
       "    }\n",
       "\n",
       "    .dataframe tbody tr th {\n",
       "        vertical-align: top;\n",
       "    }\n",
       "\n",
       "    .dataframe thead th {\n",
       "        text-align: right;\n",
       "    }\n",
       "</style>\n",
       "<table border=\"1\" class=\"dataframe\">\n",
       "  <thead>\n",
       "    <tr style=\"text-align: right;\">\n",
       "      <th></th>\n",
       "      <th>date_of_birth</th>\n",
       "      <th>date_of_offence</th>\n",
       "      <th>highest_education_level</th>\n",
       "      <th>last_name</th>\n",
       "      <th>first_name</th>\n",
       "      <th>age_at_execution</th>\n",
       "      <th>date_received</th>\n",
       "      <th>execution_date</th>\n",
       "      <th>race</th>\n",
       "      <th>county</th>\n",
       "      <th>eye_color</th>\n",
       "      <th>weight</th>\n",
       "      <th>height</th>\n",
       "      <th>native_county</th>\n",
       "      <th>native_state</th>\n",
       "      <th>last_statement</th>\n",
       "    </tr>\n",
       "  </thead>\n",
       "  <tbody>\n",
       "    <tr>\n",
       "      <th>0</th>\n",
       "      <td>1983-09-24</td>\n",
       "      <td>2004-11-21</td>\n",
       "      <td>9.0</td>\n",
       "      <td>Young</td>\n",
       "      <td>Christopher Anthony</td>\n",
       "      <td>34</td>\n",
       "      <td>2006-03-31</td>\n",
       "      <td>2018-07-17</td>\n",
       "      <td>Black</td>\n",
       "      <td>Bexar</td>\n",
       "      <td>Brown</td>\n",
       "      <td>216.0</td>\n",
       "      <td>6' 1\"</td>\n",
       "      <td>Bexar</td>\n",
       "      <td>Texas</td>\n",
       "      <td>l want to make sure the Patel family knows I l...</td>\n",
       "    </tr>\n",
       "  </tbody>\n",
       "</table>\n",
       "</div>"
      ],
      "text/plain": [
       "  date_of_birth date_of_offence  highest_education_level last_name  \\\n",
       "0    1983-09-24      2004-11-21                      9.0     Young   \n",
       "\n",
       "            first_name  age_at_execution date_received execution_date   race  \\\n",
       "0  Christopher Anthony                34    2006-03-31     2018-07-17  Black   \n",
       "\n",
       "  county eye_color  weight height native_county native_state  \\\n",
       "0  Bexar     Brown   216.0  6' 1\"         Bexar        Texas   \n",
       "\n",
       "                                      last_statement  \n",
       "0  l want to make sure the Patel family knows I l...  "
      ]
     },
     "execution_count": 11,
     "metadata": {},
     "output_type": "execute_result"
    }
   ],
   "source": [
    "# drop columns from the dataset\n",
    "executions_df.drop(['execution','tdcj\\nnumber'], axis=1, inplace=True)\n",
    "\n",
    "# confirm changes\n",
    "executions_df.head(1)"
   ]
  },
  {
   "cell_type": "markdown",
   "metadata": {},
   "source": [
    "#### Convert Date Columns to Datetime datatype\n",
    "\n",
    "- To convert ```date_of_birth```, ```date_of_offence ```, ```date_received```and ```execution_date ``` into Date datatype"
   ]
  },
  {
   "cell_type": "code",
   "execution_count": 12,
   "metadata": {},
   "outputs": [
    {
     "name": "stdout",
     "output_type": "stream",
     "text": [
      "<class 'pandas.core.frame.DataFrame'>\n",
      "RangeIndex: 553 entries, 0 to 552\n",
      "Data columns (total 16 columns):\n",
      "date_of_birth              539 non-null datetime64[ns]\n",
      "date_of_offence            536 non-null datetime64[ns]\n",
      "highest_education_level    505 non-null float64\n",
      "last_name                  553 non-null object\n",
      "first_name                 553 non-null object\n",
      "age_at_execution           553 non-null int64\n",
      "date_received              539 non-null datetime64[ns]\n",
      "execution_date             553 non-null datetime64[ns]\n",
      "race                       553 non-null object\n",
      "county                     553 non-null object\n",
      "eye_color                  518 non-null object\n",
      "weight                     511 non-null float64\n",
      "height                     513 non-null object\n",
      "native_county              510 non-null object\n",
      "native_state               524 non-null object\n",
      "last_statement             443 non-null object\n",
      "dtypes: datetime64[ns](4), float64(2), int64(1), object(9)\n",
      "memory usage: 69.2+ KB\n"
     ]
    }
   ],
   "source": [
    "# convert date columns to datetime format\n",
    "executions_df['date_of_birth'] = pd.to_datetime(executions_df['date_of_birth'])\n",
    "executions_df['date_of_offence'] = pd.to_datetime(executions_df['date_of_offence'])\n",
    "executions_df['date_received'] = pd.to_datetime(executions_df['date_received'])\n",
    "executions_df['execution_date'] = pd.to_datetime(executions_df['execution_date'])\n",
    "\n",
    "# confirm the changes\n",
    "executions_df.info()"
   ]
  },
  {
   "cell_type": "markdown",
   "metadata": {},
   "source": [
    "### Exploratory Data Analysis\n",
    "\n",
    "Now that I've trimmed and cleaned the data, I can compute statistics and create visualizations with the goal of addressing the research questions that I have posed in the Introduction section."
   ]
  },
  {
   "cell_type": "code",
   "execution_count": 14,
   "metadata": {},
   "outputs": [
    {
     "data": {
      "text/plain": [
       "count    553.000000\n",
       "mean      39.470163\n",
       "std        8.628164\n",
       "min       24.000000\n",
       "25%       33.000000\n",
       "50%       38.000000\n",
       "75%       44.000000\n",
       "max       67.000000\n",
       "Name: age_at_execution, dtype: float64"
      ]
     },
     "execution_count": 14,
     "metadata": {},
     "output_type": "execute_result"
    }
   ],
   "source": [
    "executions_df['age_at_execution'].describe()"
   ]
  },
  {
   "cell_type": "code",
   "execution_count": 13,
   "metadata": {},
   "outputs": [
    {
     "data": {
      "image/png": "[encoded data removed]",
      "text/plain": [
       "<Figure size 1000x500 with 1 Axes>"
      ]
     },
     "metadata": {},
     "output_type": "display_data"
    }
   ],
   "source": [
    "# Create histogram to see the distribution of the runtime \n",
    "plt.figure(figsize=(10,5), dpi = 100)\n",
    "\n",
    "# x-axis \n",
    "plt.xlabel('Age at Execution', fontsize = 15)\n",
    "# y-axis \n",
    "plt.ylabel('No. of Executions', fontsize=15)\n",
    "# Name of the graph\n",
    "plt.title('Age Distribution', fontsize=15)\n",
    "\n",
    "# Plot the histogram\n",
    "plt.hist(executions_df['age_at_execution'], rwidth = 0.9, bins =35)\n",
    "# Displays the plot\n",
    "plt.show()"
   ]
  },
  {
   "cell_type": "code",
   "execution_count": null,
   "metadata": {},
   "outputs": [],
   "source": []
  },
  {
   "cell_type": "code",
   "execution_count": null,
   "metadata": {},
   "outputs": [],
   "source": []
  }
 ],
 "metadata": {
  "kernelspec": {
   "display_name": "Python 3",
   "language": "python",
   "name": "python3"
  },
  "language_info": {
   "codemirror_mode": {
    "name": "ipython",
    "version": 3
   },
   "file_extension": ".py",
   "mimetype": "text/x-python",
   "name": "python",
   "nbconvert_exporter": "python",
   "pygments_lexer": "ipython3",
   "version": "3.6.5"
  }
 },
 "nbformat": 4,
 "nbformat_minor": 2
}
